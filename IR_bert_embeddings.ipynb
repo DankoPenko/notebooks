{
  "nbformat": 4,
  "nbformat_minor": 0,
  "metadata": {
    "colab": {
      "name": "websuche_bert (1).ipynb",
      "provenance": [],
      "collapsed_sections": []
    },
    "kernelspec": {
      "name": "python3",
      "display_name": "Python 3"
    },
    "widgets": {
      "application/vnd.jupyter.widget-state+json": {
        "a9bf77134acc4543b718cb89379f4966": {
          "model_module": "@jupyter-widgets/controls",
          "model_name": "HBoxModel",
          "state": {
            "_view_name": "HBoxView",
            "_dom_classes": [],
            "_model_name": "HBoxModel",
            "_view_module": "@jupyter-widgets/controls",
            "_model_module_version": "1.5.0",
            "_view_count": null,
            "_view_module_version": "1.5.0",
            "box_style": "",
            "layout": "IPY_MODEL_3183b88462444fdd9491138411669b6e",
            "_model_module": "@jupyter-widgets/controls",
            "children": [
              "IPY_MODEL_5da64a8adba84ac3ae9e866f104c94ac",
              "IPY_MODEL_341740bc7e8c47f1bb3d65fabfa3618c"
            ]
          }
        },
        "3183b88462444fdd9491138411669b6e": {
          "model_module": "@jupyter-widgets/base",
          "model_name": "LayoutModel",
          "state": {
            "_view_name": "LayoutView",
            "grid_template_rows": null,
            "right": null,
            "justify_content": null,
            "_view_module": "@jupyter-widgets/base",
            "overflow": null,
            "_model_module_version": "1.2.0",
            "_view_count": null,
            "flex_flow": null,
            "width": null,
            "min_width": null,
            "border": null,
            "align_items": null,
            "bottom": null,
            "_model_module": "@jupyter-widgets/base",
            "top": null,
            "grid_column": null,
            "overflow_y": null,
            "overflow_x": null,
            "grid_auto_flow": null,
            "grid_area": null,
            "grid_template_columns": null,
            "flex": null,
            "_model_name": "LayoutModel",
            "justify_items": null,
            "grid_row": null,
            "max_height": null,
            "align_content": null,
            "visibility": null,
            "align_self": null,
            "height": null,
            "min_height": null,
            "padding": null,
            "grid_auto_rows": null,
            "grid_gap": null,
            "max_width": null,
            "order": null,
            "_view_module_version": "1.2.0",
            "grid_template_areas": null,
            "object_position": null,
            "object_fit": null,
            "grid_auto_columns": null,
            "margin": null,
            "display": null,
            "left": null
          }
        },
        "5da64a8adba84ac3ae9e866f104c94ac": {
          "model_module": "@jupyter-widgets/controls",
          "model_name": "FloatProgressModel",
          "state": {
            "_view_name": "ProgressView",
            "style": "IPY_MODEL_0e95bcc2e21d421ca999b3ac6f91a69c",
            "_dom_classes": [],
            "description": "Downloading: 100%",
            "_model_name": "FloatProgressModel",
            "bar_style": "success",
            "max": 231508,
            "_view_module": "@jupyter-widgets/controls",
            "_model_module_version": "1.5.0",
            "value": 231508,
            "_view_count": null,
            "_view_module_version": "1.5.0",
            "orientation": "horizontal",
            "min": 0,
            "description_tooltip": null,
            "_model_module": "@jupyter-widgets/controls",
            "layout": "IPY_MODEL_852d59705af243f1832c2d248124b6f9"
          }
        },
        "341740bc7e8c47f1bb3d65fabfa3618c": {
          "model_module": "@jupyter-widgets/controls",
          "model_name": "HTMLModel",
          "state": {
            "_view_name": "HTMLView",
            "style": "IPY_MODEL_1dd4171db3c7472da8a3f0fd7efbed1f",
            "_dom_classes": [],
            "description": "",
            "_model_name": "HTMLModel",
            "placeholder": "​",
            "_view_module": "@jupyter-widgets/controls",
            "_model_module_version": "1.5.0",
            "value": " 232k/232k [00:00&lt;00:00, 3.56MB/s]",
            "_view_count": null,
            "_view_module_version": "1.5.0",
            "description_tooltip": null,
            "_model_module": "@jupyter-widgets/controls",
            "layout": "IPY_MODEL_c551e9f0546a4836a99eeca6003d18e8"
          }
        },
        "0e95bcc2e21d421ca999b3ac6f91a69c": {
          "model_module": "@jupyter-widgets/controls",
          "model_name": "ProgressStyleModel",
          "state": {
            "_view_name": "StyleView",
            "_model_name": "ProgressStyleModel",
            "description_width": "initial",
            "_view_module": "@jupyter-widgets/base",
            "_model_module_version": "1.5.0",
            "_view_count": null,
            "_view_module_version": "1.2.0",
            "bar_color": null,
            "_model_module": "@jupyter-widgets/controls"
          }
        },
        "852d59705af243f1832c2d248124b6f9": {
          "model_module": "@jupyter-widgets/base",
          "model_name": "LayoutModel",
          "state": {
            "_view_name": "LayoutView",
            "grid_template_rows": null,
            "right": null,
            "justify_content": null,
            "_view_module": "@jupyter-widgets/base",
            "overflow": null,
            "_model_module_version": "1.2.0",
            "_view_count": null,
            "flex_flow": null,
            "width": null,
            "min_width": null,
            "border": null,
            "align_items": null,
            "bottom": null,
            "_model_module": "@jupyter-widgets/base",
            "top": null,
            "grid_column": null,
            "overflow_y": null,
            "overflow_x": null,
            "grid_auto_flow": null,
            "grid_area": null,
            "grid_template_columns": null,
            "flex": null,
            "_model_name": "LayoutModel",
            "justify_items": null,
            "grid_row": null,
            "max_height": null,
            "align_content": null,
            "visibility": null,
            "align_self": null,
            "height": null,
            "min_height": null,
            "padding": null,
            "grid_auto_rows": null,
            "grid_gap": null,
            "max_width": null,
            "order": null,
            "_view_module_version": "1.2.0",
            "grid_template_areas": null,
            "object_position": null,
            "object_fit": null,
            "grid_auto_columns": null,
            "margin": null,
            "display": null,
            "left": null
          }
        },
        "1dd4171db3c7472da8a3f0fd7efbed1f": {
          "model_module": "@jupyter-widgets/controls",
          "model_name": "DescriptionStyleModel",
          "state": {
            "_view_name": "StyleView",
            "_model_name": "DescriptionStyleModel",
            "description_width": "",
            "_view_module": "@jupyter-widgets/base",
            "_model_module_version": "1.5.0",
            "_view_count": null,
            "_view_module_version": "1.2.0",
            "_model_module": "@jupyter-widgets/controls"
          }
        },
        "c551e9f0546a4836a99eeca6003d18e8": {
          "model_module": "@jupyter-widgets/base",
          "model_name": "LayoutModel",
          "state": {
            "_view_name": "LayoutView",
            "grid_template_rows": null,
            "right": null,
            "justify_content": null,
            "_view_module": "@jupyter-widgets/base",
            "overflow": null,
            "_model_module_version": "1.2.0",
            "_view_count": null,
            "flex_flow": null,
            "width": null,
            "min_width": null,
            "border": null,
            "align_items": null,
            "bottom": null,
            "_model_module": "@jupyter-widgets/base",
            "top": null,
            "grid_column": null,
            "overflow_y": null,
            "overflow_x": null,
            "grid_auto_flow": null,
            "grid_area": null,
            "grid_template_columns": null,
            "flex": null,
            "_model_name": "LayoutModel",
            "justify_items": null,
            "grid_row": null,
            "max_height": null,
            "align_content": null,
            "visibility": null,
            "align_self": null,
            "height": null,
            "min_height": null,
            "padding": null,
            "grid_auto_rows": null,
            "grid_gap": null,
            "max_width": null,
            "order": null,
            "_view_module_version": "1.2.0",
            "grid_template_areas": null,
            "object_position": null,
            "object_fit": null,
            "grid_auto_columns": null,
            "margin": null,
            "display": null,
            "left": null
          }
        },
        "0989879e4be240a98a71b15b52f18066": {
          "model_module": "@jupyter-widgets/controls",
          "model_name": "HBoxModel",
          "state": {
            "_view_name": "HBoxView",
            "_dom_classes": [],
            "_model_name": "HBoxModel",
            "_view_module": "@jupyter-widgets/controls",
            "_model_module_version": "1.5.0",
            "_view_count": null,
            "_view_module_version": "1.5.0",
            "box_style": "",
            "layout": "IPY_MODEL_e932827aa6b841de942fa372a008b435",
            "_model_module": "@jupyter-widgets/controls",
            "children": [
              "IPY_MODEL_1facbe82c7a14bb5a3120b2920157f27",
              "IPY_MODEL_d06cb7b8e7ab4dd9aa409408ce486ca5"
            ]
          }
        },
        "e932827aa6b841de942fa372a008b435": {
          "model_module": "@jupyter-widgets/base",
          "model_name": "LayoutModel",
          "state": {
            "_view_name": "LayoutView",
            "grid_template_rows": null,
            "right": null,
            "justify_content": null,
            "_view_module": "@jupyter-widgets/base",
            "overflow": null,
            "_model_module_version": "1.2.0",
            "_view_count": null,
            "flex_flow": null,
            "width": null,
            "min_width": null,
            "border": null,
            "align_items": null,
            "bottom": null,
            "_model_module": "@jupyter-widgets/base",
            "top": null,
            "grid_column": null,
            "overflow_y": null,
            "overflow_x": null,
            "grid_auto_flow": null,
            "grid_area": null,
            "grid_template_columns": null,
            "flex": null,
            "_model_name": "LayoutModel",
            "justify_items": null,
            "grid_row": null,
            "max_height": null,
            "align_content": null,
            "visibility": null,
            "align_self": null,
            "height": null,
            "min_height": null,
            "padding": null,
            "grid_auto_rows": null,
            "grid_gap": null,
            "max_width": null,
            "order": null,
            "_view_module_version": "1.2.0",
            "grid_template_areas": null,
            "object_position": null,
            "object_fit": null,
            "grid_auto_columns": null,
            "margin": null,
            "display": null,
            "left": null
          }
        },
        "1facbe82c7a14bb5a3120b2920157f27": {
          "model_module": "@jupyter-widgets/controls",
          "model_name": "FloatProgressModel",
          "state": {
            "_view_name": "ProgressView",
            "style": "IPY_MODEL_3de64efeba3f4c8d9d846bc2ed1e7d27",
            "_dom_classes": [],
            "description": "Downloading: 100%",
            "_model_name": "FloatProgressModel",
            "bar_style": "success",
            "max": 433,
            "_view_module": "@jupyter-widgets/controls",
            "_model_module_version": "1.5.0",
            "value": 433,
            "_view_count": null,
            "_view_module_version": "1.5.0",
            "orientation": "horizontal",
            "min": 0,
            "description_tooltip": null,
            "_model_module": "@jupyter-widgets/controls",
            "layout": "IPY_MODEL_6f0e2656a20a4d26bbb7219c15ebca07"
          }
        },
        "d06cb7b8e7ab4dd9aa409408ce486ca5": {
          "model_module": "@jupyter-widgets/controls",
          "model_name": "HTMLModel",
          "state": {
            "_view_name": "HTMLView",
            "style": "IPY_MODEL_40c0855f83c3426b9173de6b0c9a8ee9",
            "_dom_classes": [],
            "description": "",
            "_model_name": "HTMLModel",
            "placeholder": "​",
            "_view_module": "@jupyter-widgets/controls",
            "_model_module_version": "1.5.0",
            "value": " 433/433 [00:00&lt;00:00, 7.26kB/s]",
            "_view_count": null,
            "_view_module_version": "1.5.0",
            "description_tooltip": null,
            "_model_module": "@jupyter-widgets/controls",
            "layout": "IPY_MODEL_812dbd592cd94c3db20683a0b1538f69"
          }
        },
        "3de64efeba3f4c8d9d846bc2ed1e7d27": {
          "model_module": "@jupyter-widgets/controls",
          "model_name": "ProgressStyleModel",
          "state": {
            "_view_name": "StyleView",
            "_model_name": "ProgressStyleModel",
            "description_width": "initial",
            "_view_module": "@jupyter-widgets/base",
            "_model_module_version": "1.5.0",
            "_view_count": null,
            "_view_module_version": "1.2.0",
            "bar_color": null,
            "_model_module": "@jupyter-widgets/controls"
          }
        },
        "6f0e2656a20a4d26bbb7219c15ebca07": {
          "model_module": "@jupyter-widgets/base",
          "model_name": "LayoutModel",
          "state": {
            "_view_name": "LayoutView",
            "grid_template_rows": null,
            "right": null,
            "justify_content": null,
            "_view_module": "@jupyter-widgets/base",
            "overflow": null,
            "_model_module_version": "1.2.0",
            "_view_count": null,
            "flex_flow": null,
            "width": null,
            "min_width": null,
            "border": null,
            "align_items": null,
            "bottom": null,
            "_model_module": "@jupyter-widgets/base",
            "top": null,
            "grid_column": null,
            "overflow_y": null,
            "overflow_x": null,
            "grid_auto_flow": null,
            "grid_area": null,
            "grid_template_columns": null,
            "flex": null,
            "_model_name": "LayoutModel",
            "justify_items": null,
            "grid_row": null,
            "max_height": null,
            "align_content": null,
            "visibility": null,
            "align_self": null,
            "height": null,
            "min_height": null,
            "padding": null,
            "grid_auto_rows": null,
            "grid_gap": null,
            "max_width": null,
            "order": null,
            "_view_module_version": "1.2.0",
            "grid_template_areas": null,
            "object_position": null,
            "object_fit": null,
            "grid_auto_columns": null,
            "margin": null,
            "display": null,
            "left": null
          }
        },
        "40c0855f83c3426b9173de6b0c9a8ee9": {
          "model_module": "@jupyter-widgets/controls",
          "model_name": "DescriptionStyleModel",
          "state": {
            "_view_name": "StyleView",
            "_model_name": "DescriptionStyleModel",
            "description_width": "",
            "_view_module": "@jupyter-widgets/base",
            "_model_module_version": "1.5.0",
            "_view_count": null,
            "_view_module_version": "1.2.0",
            "_model_module": "@jupyter-widgets/controls"
          }
        },
        "812dbd592cd94c3db20683a0b1538f69": {
          "model_module": "@jupyter-widgets/base",
          "model_name": "LayoutModel",
          "state": {
            "_view_name": "LayoutView",
            "grid_template_rows": null,
            "right": null,
            "justify_content": null,
            "_view_module": "@jupyter-widgets/base",
            "overflow": null,
            "_model_module_version": "1.2.0",
            "_view_count": null,
            "flex_flow": null,
            "width": null,
            "min_width": null,
            "border": null,
            "align_items": null,
            "bottom": null,
            "_model_module": "@jupyter-widgets/base",
            "top": null,
            "grid_column": null,
            "overflow_y": null,
            "overflow_x": null,
            "grid_auto_flow": null,
            "grid_area": null,
            "grid_template_columns": null,
            "flex": null,
            "_model_name": "LayoutModel",
            "justify_items": null,
            "grid_row": null,
            "max_height": null,
            "align_content": null,
            "visibility": null,
            "align_self": null,
            "height": null,
            "min_height": null,
            "padding": null,
            "grid_auto_rows": null,
            "grid_gap": null,
            "max_width": null,
            "order": null,
            "_view_module_version": "1.2.0",
            "grid_template_areas": null,
            "object_position": null,
            "object_fit": null,
            "grid_auto_columns": null,
            "margin": null,
            "display": null,
            "left": null
          }
        },
        "6760b943137145b692cdf19cd3efe30c": {
          "model_module": "@jupyter-widgets/controls",
          "model_name": "HBoxModel",
          "state": {
            "_view_name": "HBoxView",
            "_dom_classes": [],
            "_model_name": "HBoxModel",
            "_view_module": "@jupyter-widgets/controls",
            "_model_module_version": "1.5.0",
            "_view_count": null,
            "_view_module_version": "1.5.0",
            "box_style": "",
            "layout": "IPY_MODEL_f418f0e60b9c492daee367b53f6b8c7f",
            "_model_module": "@jupyter-widgets/controls",
            "children": [
              "IPY_MODEL_24ef57d8ba454387b2c67cab340caa98",
              "IPY_MODEL_59734e5701234b42948df33e6b7a5581"
            ]
          }
        },
        "f418f0e60b9c492daee367b53f6b8c7f": {
          "model_module": "@jupyter-widgets/base",
          "model_name": "LayoutModel",
          "state": {
            "_view_name": "LayoutView",
            "grid_template_rows": null,
            "right": null,
            "justify_content": null,
            "_view_module": "@jupyter-widgets/base",
            "overflow": null,
            "_model_module_version": "1.2.0",
            "_view_count": null,
            "flex_flow": null,
            "width": null,
            "min_width": null,
            "border": null,
            "align_items": null,
            "bottom": null,
            "_model_module": "@jupyter-widgets/base",
            "top": null,
            "grid_column": null,
            "overflow_y": null,
            "overflow_x": null,
            "grid_auto_flow": null,
            "grid_area": null,
            "grid_template_columns": null,
            "flex": null,
            "_model_name": "LayoutModel",
            "justify_items": null,
            "grid_row": null,
            "max_height": null,
            "align_content": null,
            "visibility": null,
            "align_self": null,
            "height": null,
            "min_height": null,
            "padding": null,
            "grid_auto_rows": null,
            "grid_gap": null,
            "max_width": null,
            "order": null,
            "_view_module_version": "1.2.0",
            "grid_template_areas": null,
            "object_position": null,
            "object_fit": null,
            "grid_auto_columns": null,
            "margin": null,
            "display": null,
            "left": null
          }
        },
        "24ef57d8ba454387b2c67cab340caa98": {
          "model_module": "@jupyter-widgets/controls",
          "model_name": "FloatProgressModel",
          "state": {
            "_view_name": "ProgressView",
            "style": "IPY_MODEL_18dbd38df2d341bbb1c8844be7d45152",
            "_dom_classes": [],
            "description": "Downloading: 100%",
            "_model_name": "FloatProgressModel",
            "bar_style": "success",
            "max": 440473133,
            "_view_module": "@jupyter-widgets/controls",
            "_model_module_version": "1.5.0",
            "value": 440473133,
            "_view_count": null,
            "_view_module_version": "1.5.0",
            "orientation": "horizontal",
            "min": 0,
            "description_tooltip": null,
            "_model_module": "@jupyter-widgets/controls",
            "layout": "IPY_MODEL_21184f5b5bda4d3f954de186d2ca1849"
          }
        },
        "59734e5701234b42948df33e6b7a5581": {
          "model_module": "@jupyter-widgets/controls",
          "model_name": "HTMLModel",
          "state": {
            "_view_name": "HTMLView",
            "style": "IPY_MODEL_0f5e016f1cb1448da9376ab09127a3dc",
            "_dom_classes": [],
            "description": "",
            "_model_name": "HTMLModel",
            "placeholder": "​",
            "_view_module": "@jupyter-widgets/controls",
            "_model_module_version": "1.5.0",
            "value": " 440M/440M [00:06&lt;00:00, 72.3MB/s]",
            "_view_count": null,
            "_view_module_version": "1.5.0",
            "description_tooltip": null,
            "_model_module": "@jupyter-widgets/controls",
            "layout": "IPY_MODEL_e64bff630b7340589c2fa3035409088e"
          }
        },
        "18dbd38df2d341bbb1c8844be7d45152": {
          "model_module": "@jupyter-widgets/controls",
          "model_name": "ProgressStyleModel",
          "state": {
            "_view_name": "StyleView",
            "_model_name": "ProgressStyleModel",
            "description_width": "initial",
            "_view_module": "@jupyter-widgets/base",
            "_model_module_version": "1.5.0",
            "_view_count": null,
            "_view_module_version": "1.2.0",
            "bar_color": null,
            "_model_module": "@jupyter-widgets/controls"
          }
        },
        "21184f5b5bda4d3f954de186d2ca1849": {
          "model_module": "@jupyter-widgets/base",
          "model_name": "LayoutModel",
          "state": {
            "_view_name": "LayoutView",
            "grid_template_rows": null,
            "right": null,
            "justify_content": null,
            "_view_module": "@jupyter-widgets/base",
            "overflow": null,
            "_model_module_version": "1.2.0",
            "_view_count": null,
            "flex_flow": null,
            "width": null,
            "min_width": null,
            "border": null,
            "align_items": null,
            "bottom": null,
            "_model_module": "@jupyter-widgets/base",
            "top": null,
            "grid_column": null,
            "overflow_y": null,
            "overflow_x": null,
            "grid_auto_flow": null,
            "grid_area": null,
            "grid_template_columns": null,
            "flex": null,
            "_model_name": "LayoutModel",
            "justify_items": null,
            "grid_row": null,
            "max_height": null,
            "align_content": null,
            "visibility": null,
            "align_self": null,
            "height": null,
            "min_height": null,
            "padding": null,
            "grid_auto_rows": null,
            "grid_gap": null,
            "max_width": null,
            "order": null,
            "_view_module_version": "1.2.0",
            "grid_template_areas": null,
            "object_position": null,
            "object_fit": null,
            "grid_auto_columns": null,
            "margin": null,
            "display": null,
            "left": null
          }
        },
        "0f5e016f1cb1448da9376ab09127a3dc": {
          "model_module": "@jupyter-widgets/controls",
          "model_name": "DescriptionStyleModel",
          "state": {
            "_view_name": "StyleView",
            "_model_name": "DescriptionStyleModel",
            "description_width": "",
            "_view_module": "@jupyter-widgets/base",
            "_model_module_version": "1.5.0",
            "_view_count": null,
            "_view_module_version": "1.2.0",
            "_model_module": "@jupyter-widgets/controls"
          }
        },
        "e64bff630b7340589c2fa3035409088e": {
          "model_module": "@jupyter-widgets/base",
          "model_name": "LayoutModel",
          "state": {
            "_view_name": "LayoutView",
            "grid_template_rows": null,
            "right": null,
            "justify_content": null,
            "_view_module": "@jupyter-widgets/base",
            "overflow": null,
            "_model_module_version": "1.2.0",
            "_view_count": null,
            "flex_flow": null,
            "width": null,
            "min_width": null,
            "border": null,
            "align_items": null,
            "bottom": null,
            "_model_module": "@jupyter-widgets/base",
            "top": null,
            "grid_column": null,
            "overflow_y": null,
            "overflow_x": null,
            "grid_auto_flow": null,
            "grid_area": null,
            "grid_template_columns": null,
            "flex": null,
            "_model_name": "LayoutModel",
            "justify_items": null,
            "grid_row": null,
            "max_height": null,
            "align_content": null,
            "visibility": null,
            "align_self": null,
            "height": null,
            "min_height": null,
            "padding": null,
            "grid_auto_rows": null,
            "grid_gap": null,
            "max_width": null,
            "order": null,
            "_view_module_version": "1.2.0",
            "grid_template_areas": null,
            "object_position": null,
            "object_fit": null,
            "grid_auto_columns": null,
            "margin": null,
            "display": null,
            "left": null
          }
        }
      }
    },
    "accelerator": "GPU"
  },
  "cells": [
    {
      "cell_type": "code",
      "metadata": {
        "id": "Qn_8i0YX9ZWj",
        "colab": {
          "base_uri": "https://localhost:8080/"
        },
        "outputId": "b5c8113f-948a-4ad7-ea42-d3cef7fc9a9f"
      },
      "source": [
        "!pip install --upgrade transformers==4.2"
      ],
      "execution_count": null,
      "outputs": [
        {
          "output_type": "stream",
          "text": [
            "Collecting transformers==4.2\n",
            "\u001b[?25l  Downloading https://files.pythonhosted.org/packages/84/ea/634945faff8ad6984b98f7f3d98f6d83083a18af44e349744d90bde81f80/transformers-4.2.0-py3-none-any.whl (1.8MB)\n",
            "\r\u001b[K     |▏                               | 10kB 21.9MB/s eta 0:00:01\r\u001b[K     |▍                               | 20kB 28.1MB/s eta 0:00:01\r\u001b[K     |▋                               | 30kB 22.3MB/s eta 0:00:01\r\u001b[K     |▊                               | 40kB 26.1MB/s eta 0:00:01\r\u001b[K     |█                               | 51kB 24.7MB/s eta 0:00:01\r\u001b[K     |█▏                              | 61kB 27.4MB/s eta 0:00:01\r\u001b[K     |█▎                              | 71kB 18.1MB/s eta 0:00:01\r\u001b[K     |█▌                              | 81kB 19.4MB/s eta 0:00:01\r\u001b[K     |█▊                              | 92kB 18.2MB/s eta 0:00:01\r\u001b[K     |█▉                              | 102kB 17.9MB/s eta 0:00:01\r\u001b[K     |██                              | 112kB 17.9MB/s eta 0:00:01\r\u001b[K     |██▎                             | 122kB 17.9MB/s eta 0:00:01\r\u001b[K     |██▍                             | 133kB 17.9MB/s eta 0:00:01\r\u001b[K     |██▋                             | 143kB 17.9MB/s eta 0:00:01\r\u001b[K     |██▉                             | 153kB 17.9MB/s eta 0:00:01\r\u001b[K     |███                             | 163kB 17.9MB/s eta 0:00:01\r\u001b[K     |███▏                            | 174kB 17.9MB/s eta 0:00:01\r\u001b[K     |███▍                            | 184kB 17.9MB/s eta 0:00:01\r\u001b[K     |███▌                            | 194kB 17.9MB/s eta 0:00:01\r\u001b[K     |███▊                            | 204kB 17.9MB/s eta 0:00:01\r\u001b[K     |████                            | 215kB 17.9MB/s eta 0:00:01\r\u001b[K     |████                            | 225kB 17.9MB/s eta 0:00:01\r\u001b[K     |████▎                           | 235kB 17.9MB/s eta 0:00:01\r\u001b[K     |████▌                           | 245kB 17.9MB/s eta 0:00:01\r\u001b[K     |████▋                           | 256kB 17.9MB/s eta 0:00:01\r\u001b[K     |████▉                           | 266kB 17.9MB/s eta 0:00:01\r\u001b[K     |█████                           | 276kB 17.9MB/s eta 0:00:01\r\u001b[K     |█████▏                          | 286kB 17.9MB/s eta 0:00:01\r\u001b[K     |█████▍                          | 296kB 17.9MB/s eta 0:00:01\r\u001b[K     |█████▋                          | 307kB 17.9MB/s eta 0:00:01\r\u001b[K     |█████▊                          | 317kB 17.9MB/s eta 0:00:01\r\u001b[K     |██████                          | 327kB 17.9MB/s eta 0:00:01\r\u001b[K     |██████▏                         | 337kB 17.9MB/s eta 0:00:01\r\u001b[K     |██████▎                         | 348kB 17.9MB/s eta 0:00:01\r\u001b[K     |██████▌                         | 358kB 17.9MB/s eta 0:00:01\r\u001b[K     |██████▊                         | 368kB 17.9MB/s eta 0:00:01\r\u001b[K     |██████▉                         | 378kB 17.9MB/s eta 0:00:01\r\u001b[K     |███████                         | 389kB 17.9MB/s eta 0:00:01\r\u001b[K     |███████▎                        | 399kB 17.9MB/s eta 0:00:01\r\u001b[K     |███████▍                        | 409kB 17.9MB/s eta 0:00:01\r\u001b[K     |███████▋                        | 419kB 17.9MB/s eta 0:00:01\r\u001b[K     |███████▉                        | 430kB 17.9MB/s eta 0:00:01\r\u001b[K     |████████                        | 440kB 17.9MB/s eta 0:00:01\r\u001b[K     |████████▏                       | 450kB 17.9MB/s eta 0:00:01\r\u001b[K     |████████▍                       | 460kB 17.9MB/s eta 0:00:01\r\u001b[K     |████████▌                       | 471kB 17.9MB/s eta 0:00:01\r\u001b[K     |████████▊                       | 481kB 17.9MB/s eta 0:00:01\r\u001b[K     |█████████                       | 491kB 17.9MB/s eta 0:00:01\r\u001b[K     |█████████                       | 501kB 17.9MB/s eta 0:00:01\r\u001b[K     |█████████▎                      | 512kB 17.9MB/s eta 0:00:01\r\u001b[K     |█████████▌                      | 522kB 17.9MB/s eta 0:00:01\r\u001b[K     |█████████▋                      | 532kB 17.9MB/s eta 0:00:01\r\u001b[K     |█████████▉                      | 542kB 17.9MB/s eta 0:00:01\r\u001b[K     |██████████                      | 552kB 17.9MB/s eta 0:00:01\r\u001b[K     |██████████▏                     | 563kB 17.9MB/s eta 0:00:01\r\u001b[K     |██████████▍                     | 573kB 17.9MB/s eta 0:00:01\r\u001b[K     |██████████▋                     | 583kB 17.9MB/s eta 0:00:01\r\u001b[K     |██████████▊                     | 593kB 17.9MB/s eta 0:00:01\r\u001b[K     |███████████                     | 604kB 17.9MB/s eta 0:00:01\r\u001b[K     |███████████▏                    | 614kB 17.9MB/s eta 0:00:01\r\u001b[K     |███████████▎                    | 624kB 17.9MB/s eta 0:00:01\r\u001b[K     |███████████▌                    | 634kB 17.9MB/s eta 0:00:01\r\u001b[K     |███████████▊                    | 645kB 17.9MB/s eta 0:00:01\r\u001b[K     |███████████▉                    | 655kB 17.9MB/s eta 0:00:01\r\u001b[K     |████████████                    | 665kB 17.9MB/s eta 0:00:01\r\u001b[K     |████████████▎                   | 675kB 17.9MB/s eta 0:00:01\r\u001b[K     |████████████▍                   | 686kB 17.9MB/s eta 0:00:01\r\u001b[K     |████████████▋                   | 696kB 17.9MB/s eta 0:00:01\r\u001b[K     |████████████▉                   | 706kB 17.9MB/s eta 0:00:01\r\u001b[K     |█████████████                   | 716kB 17.9MB/s eta 0:00:01\r\u001b[K     |█████████████▏                  | 727kB 17.9MB/s eta 0:00:01\r\u001b[K     |█████████████▍                  | 737kB 17.9MB/s eta 0:00:01\r\u001b[K     |█████████████▌                  | 747kB 17.9MB/s eta 0:00:01\r\u001b[K     |█████████████▊                  | 757kB 17.9MB/s eta 0:00:01\r\u001b[K     |██████████████                  | 768kB 17.9MB/s eta 0:00:01\r\u001b[K     |██████████████                  | 778kB 17.9MB/s eta 0:00:01\r\u001b[K     |██████████████▎                 | 788kB 17.9MB/s eta 0:00:01\r\u001b[K     |██████████████▌                 | 798kB 17.9MB/s eta 0:00:01\r\u001b[K     |██████████████▋                 | 808kB 17.9MB/s eta 0:00:01\r\u001b[K     |██████████████▉                 | 819kB 17.9MB/s eta 0:00:01\r\u001b[K     |███████████████                 | 829kB 17.9MB/s eta 0:00:01\r\u001b[K     |███████████████▏                | 839kB 17.9MB/s eta 0:00:01\r\u001b[K     |███████████████▍                | 849kB 17.9MB/s eta 0:00:01\r\u001b[K     |███████████████▋                | 860kB 17.9MB/s eta 0:00:01\r\u001b[K     |███████████████▊                | 870kB 17.9MB/s eta 0:00:01\r\u001b[K     |████████████████                | 880kB 17.9MB/s eta 0:00:01\r\u001b[K     |████████████████▏               | 890kB 17.9MB/s eta 0:00:01\r\u001b[K     |████████████████▎               | 901kB 17.9MB/s eta 0:00:01\r\u001b[K     |████████████████▌               | 911kB 17.9MB/s eta 0:00:01\r\u001b[K     |████████████████▊               | 921kB 17.9MB/s eta 0:00:01\r\u001b[K     |████████████████▉               | 931kB 17.9MB/s eta 0:00:01\r\u001b[K     |█████████████████               | 942kB 17.9MB/s eta 0:00:01\r\u001b[K     |█████████████████▎              | 952kB 17.9MB/s eta 0:00:01\r\u001b[K     |█████████████████▍              | 962kB 17.9MB/s eta 0:00:01\r\u001b[K     |█████████████████▋              | 972kB 17.9MB/s eta 0:00:01\r\u001b[K     |█████████████████▉              | 983kB 17.9MB/s eta 0:00:01\r\u001b[K     |██████████████████              | 993kB 17.9MB/s eta 0:00:01\r\u001b[K     |██████████████████▏             | 1.0MB 17.9MB/s eta 0:00:01\r\u001b[K     |██████████████████▍             | 1.0MB 17.9MB/s eta 0:00:01\r\u001b[K     |██████████████████▌             | 1.0MB 17.9MB/s eta 0:00:01\r\u001b[K     |██████████████████▊             | 1.0MB 17.9MB/s eta 0:00:01\r\u001b[K     |███████████████████             | 1.0MB 17.9MB/s eta 0:00:01\r\u001b[K     |███████████████████             | 1.1MB 17.9MB/s eta 0:00:01\r\u001b[K     |███████████████████▎            | 1.1MB 17.9MB/s eta 0:00:01\r\u001b[K     |███████████████████▌            | 1.1MB 17.9MB/s eta 0:00:01\r\u001b[K     |███████████████████▋            | 1.1MB 17.9MB/s eta 0:00:01\r\u001b[K     |███████████████████▉            | 1.1MB 17.9MB/s eta 0:00:01\r\u001b[K     |████████████████████            | 1.1MB 17.9MB/s eta 0:00:01\r\u001b[K     |████████████████████▏           | 1.1MB 17.9MB/s eta 0:00:01\r\u001b[K     |████████████████████▍           | 1.1MB 17.9MB/s eta 0:00:01\r\u001b[K     |████████████████████▋           | 1.1MB 17.9MB/s eta 0:00:01\r\u001b[K     |████████████████████▊           | 1.1MB 17.9MB/s eta 0:00:01\r\u001b[K     |█████████████████████           | 1.2MB 17.9MB/s eta 0:00:01\r\u001b[K     |█████████████████████▏          | 1.2MB 17.9MB/s eta 0:00:01\r\u001b[K     |█████████████████████▎          | 1.2MB 17.9MB/s eta 0:00:01\r\u001b[K     |█████████████████████▌          | 1.2MB 17.9MB/s eta 0:00:01\r\u001b[K     |█████████████████████▊          | 1.2MB 17.9MB/s eta 0:00:01\r\u001b[K     |█████████████████████▉          | 1.2MB 17.9MB/s eta 0:00:01\r\u001b[K     |██████████████████████          | 1.2MB 17.9MB/s eta 0:00:01\r\u001b[K     |██████████████████████▎         | 1.2MB 17.9MB/s eta 0:00:01\r\u001b[K     |██████████████████████▍         | 1.2MB 17.9MB/s eta 0:00:01\r\u001b[K     |██████████████████████▋         | 1.2MB 17.9MB/s eta 0:00:01\r\u001b[K     |██████████████████████▉         | 1.3MB 17.9MB/s eta 0:00:01\r\u001b[K     |███████████████████████         | 1.3MB 17.9MB/s eta 0:00:01\r\u001b[K     |███████████████████████▏        | 1.3MB 17.9MB/s eta 0:00:01\r\u001b[K     |███████████████████████▍        | 1.3MB 17.9MB/s eta 0:00:01\r\u001b[K     |███████████████████████▋        | 1.3MB 17.9MB/s eta 0:00:01\r\u001b[K     |███████████████████████▊        | 1.3MB 17.9MB/s eta 0:00:01\r\u001b[K     |████████████████████████        | 1.3MB 17.9MB/s eta 0:00:01\r\u001b[K     |████████████████████████▏       | 1.3MB 17.9MB/s eta 0:00:01\r\u001b[K     |████████████████████████▎       | 1.3MB 17.9MB/s eta 0:00:01\r\u001b[K     |████████████████████████▌       | 1.4MB 17.9MB/s eta 0:00:01\r\u001b[K     |████████████████████████▊       | 1.4MB 17.9MB/s eta 0:00:01\r\u001b[K     |████████████████████████▉       | 1.4MB 17.9MB/s eta 0:00:01\r\u001b[K     |█████████████████████████       | 1.4MB 17.9MB/s eta 0:00:01\r\u001b[K     |█████████████████████████▎      | 1.4MB 17.9MB/s eta 0:00:01\r\u001b[K     |█████████████████████████▍      | 1.4MB 17.9MB/s eta 0:00:01\r\u001b[K     |█████████████████████████▋      | 1.4MB 17.9MB/s eta 0:00:01\r\u001b[K     |█████████████████████████▉      | 1.4MB 17.9MB/s eta 0:00:01\r\u001b[K     |██████████████████████████      | 1.4MB 17.9MB/s eta 0:00:01\r\u001b[K     |██████████████████████████▏     | 1.4MB 17.9MB/s eta 0:00:01\r\u001b[K     |██████████████████████████▍     | 1.5MB 17.9MB/s eta 0:00:01\r\u001b[K     |██████████████████████████▌     | 1.5MB 17.9MB/s eta 0:00:01\r\u001b[K     |██████████████████████████▊     | 1.5MB 17.9MB/s eta 0:00:01\r\u001b[K     |███████████████████████████     | 1.5MB 17.9MB/s eta 0:00:01\r\u001b[K     |███████████████████████████     | 1.5MB 17.9MB/s eta 0:00:01\r\u001b[K     |███████████████████████████▎    | 1.5MB 17.9MB/s eta 0:00:01\r\u001b[K     |███████████████████████████▌    | 1.5MB 17.9MB/s eta 0:00:01\r\u001b[K     |███████████████████████████▋    | 1.5MB 17.9MB/s eta 0:00:01\r\u001b[K     |███████████████████████████▉    | 1.5MB 17.9MB/s eta 0:00:01\r\u001b[K     |████████████████████████████    | 1.5MB 17.9MB/s eta 0:00:01\r\u001b[K     |████████████████████████████▏   | 1.6MB 17.9MB/s eta 0:00:01\r\u001b[K     |████████████████████████████▍   | 1.6MB 17.9MB/s eta 0:00:01\r\u001b[K     |████████████████████████████▋   | 1.6MB 17.9MB/s eta 0:00:01\r\u001b[K     |████████████████████████████▊   | 1.6MB 17.9MB/s eta 0:00:01\r\u001b[K     |█████████████████████████████   | 1.6MB 17.9MB/s eta 0:00:01\r\u001b[K     |█████████████████████████████▏  | 1.6MB 17.9MB/s eta 0:00:01\r\u001b[K     |█████████████████████████████▎  | 1.6MB 17.9MB/s eta 0:00:01\r\u001b[K     |█████████████████████████████▌  | 1.6MB 17.9MB/s eta 0:00:01\r\u001b[K     |█████████████████████████████▊  | 1.6MB 17.9MB/s eta 0:00:01\r\u001b[K     |█████████████████████████████▉  | 1.6MB 17.9MB/s eta 0:00:01\r\u001b[K     |██████████████████████████████  | 1.7MB 17.9MB/s eta 0:00:01\r\u001b[K     |██████████████████████████████▎ | 1.7MB 17.9MB/s eta 0:00:01\r\u001b[K     |██████████████████████████████▍ | 1.7MB 17.9MB/s eta 0:00:01\r\u001b[K     |██████████████████████████████▋ | 1.7MB 17.9MB/s eta 0:00:01\r\u001b[K     |██████████████████████████████▉ | 1.7MB 17.9MB/s eta 0:00:01\r\u001b[K     |███████████████████████████████ | 1.7MB 17.9MB/s eta 0:00:01\r\u001b[K     |███████████████████████████████▏| 1.7MB 17.9MB/s eta 0:00:01\r\u001b[K     |███████████████████████████████▍| 1.7MB 17.9MB/s eta 0:00:01\r\u001b[K     |███████████████████████████████▌| 1.7MB 17.9MB/s eta 0:00:01\r\u001b[K     |███████████████████████████████▊| 1.8MB 17.9MB/s eta 0:00:01\r\u001b[K     |████████████████████████████████| 1.8MB 17.9MB/s eta 0:00:01\r\u001b[K     |████████████████████████████████| 1.8MB 17.9MB/s \n",
            "\u001b[?25hRequirement already satisfied, skipping upgrade: tqdm>=4.27 in /usr/local/lib/python3.6/dist-packages (from transformers==4.2) (4.41.1)\n",
            "Collecting tokenizers==0.9.4\n",
            "\u001b[?25l  Downloading https://files.pythonhosted.org/packages/0f/1c/e789a8b12e28be5bc1ce2156cf87cb522b379be9cadc7ad8091a4cc107c4/tokenizers-0.9.4-cp36-cp36m-manylinux2010_x86_64.whl (2.9MB)\n",
            "\u001b[K     |████████████████████████████████| 2.9MB 49.3MB/s \n",
            "\u001b[?25hRequirement already satisfied, skipping upgrade: filelock in /usr/local/lib/python3.6/dist-packages (from transformers==4.2) (3.0.12)\n",
            "Requirement already satisfied, skipping upgrade: packaging in /usr/local/lib/python3.6/dist-packages (from transformers==4.2) (20.9)\n",
            "Collecting sacremoses\n",
            "\u001b[?25l  Downloading https://files.pythonhosted.org/packages/7d/34/09d19aff26edcc8eb2a01bed8e98f13a1537005d31e95233fd48216eed10/sacremoses-0.0.43.tar.gz (883kB)\n",
            "\u001b[K     |████████████████████████████████| 890kB 55.5MB/s \n",
            "\u001b[?25hRequirement already satisfied, skipping upgrade: importlib-metadata; python_version < \"3.8\" in /usr/local/lib/python3.6/dist-packages (from transformers==4.2) (3.4.0)\n",
            "Requirement already satisfied, skipping upgrade: numpy in /usr/local/lib/python3.6/dist-packages (from transformers==4.2) (1.19.5)\n",
            "Requirement already satisfied, skipping upgrade: regex!=2019.12.17 in /usr/local/lib/python3.6/dist-packages (from transformers==4.2) (2019.12.20)\n",
            "Requirement already satisfied, skipping upgrade: dataclasses; python_version < \"3.7\" in /usr/local/lib/python3.6/dist-packages (from transformers==4.2) (0.8)\n",
            "Requirement already satisfied, skipping upgrade: requests in /usr/local/lib/python3.6/dist-packages (from transformers==4.2) (2.23.0)\n",
            "Requirement already satisfied, skipping upgrade: pyparsing>=2.0.2 in /usr/local/lib/python3.6/dist-packages (from packaging->transformers==4.2) (2.4.7)\n",
            "Requirement already satisfied, skipping upgrade: six in /usr/local/lib/python3.6/dist-packages (from sacremoses->transformers==4.2) (1.15.0)\n",
            "Requirement already satisfied, skipping upgrade: click in /usr/local/lib/python3.6/dist-packages (from sacremoses->transformers==4.2) (7.1.2)\n",
            "Requirement already satisfied, skipping upgrade: joblib in /usr/local/lib/python3.6/dist-packages (from sacremoses->transformers==4.2) (1.0.0)\n",
            "Requirement already satisfied, skipping upgrade: zipp>=0.5 in /usr/local/lib/python3.6/dist-packages (from importlib-metadata; python_version < \"3.8\"->transformers==4.2) (3.4.0)\n",
            "Requirement already satisfied, skipping upgrade: typing-extensions>=3.6.4; python_version < \"3.8\" in /usr/local/lib/python3.6/dist-packages (from importlib-metadata; python_version < \"3.8\"->transformers==4.2) (3.7.4.3)\n",
            "Requirement already satisfied, skipping upgrade: urllib3!=1.25.0,!=1.25.1,<1.26,>=1.21.1 in /usr/local/lib/python3.6/dist-packages (from requests->transformers==4.2) (1.24.3)\n",
            "Requirement already satisfied, skipping upgrade: chardet<4,>=3.0.2 in /usr/local/lib/python3.6/dist-packages (from requests->transformers==4.2) (3.0.4)\n",
            "Requirement already satisfied, skipping upgrade: idna<3,>=2.5 in /usr/local/lib/python3.6/dist-packages (from requests->transformers==4.2) (2.10)\n",
            "Requirement already satisfied, skipping upgrade: certifi>=2017.4.17 in /usr/local/lib/python3.6/dist-packages (from requests->transformers==4.2) (2020.12.5)\n",
            "Building wheels for collected packages: sacremoses\n",
            "  Building wheel for sacremoses (setup.py) ... \u001b[?25l\u001b[?25hdone\n",
            "  Created wheel for sacremoses: filename=sacremoses-0.0.43-cp36-none-any.whl size=893261 sha256=a07bc13fdc1a213043d429f0bf6eef562a772028e3537c5daeba767631de646d\n",
            "  Stored in directory: /root/.cache/pip/wheels/29/3c/fd/7ce5c3f0666dab31a50123635e6fb5e19ceb42ce38d4e58f45\n",
            "Successfully built sacremoses\n",
            "Installing collected packages: tokenizers, sacremoses, transformers\n",
            "Successfully installed sacremoses-0.0.43 tokenizers-0.9.4 transformers-4.2.0\n"
          ],
          "name": "stdout"
        }
      ]
    },
    {
      "cell_type": "code",
      "metadata": {
        "id": "xq4RJDV9-nkX"
      },
      "source": [
        "import pandas as pd\n",
        "df = pd.read_csv('/content/drive/MyDrive/webis.csv')"
      ],
      "execution_count": null,
      "outputs": []
    },
    {
      "cell_type": "code",
      "metadata": {
        "colab": {
          "base_uri": "https://localhost:8080/"
        },
        "id": "w8sjxSlYIXav",
        "outputId": "1cb5323b-6c3e-4f1c-cad6-5358e32790ee"
      },
      "source": [
        "from google.colab import drive\n",
        "drive.mount('/content/drive')"
      ],
      "execution_count": null,
      "outputs": [
        {
          "output_type": "stream",
          "text": [
            "Mounted at /content/drive\n"
          ],
          "name": "stdout"
        }
      ]
    },
    {
      "cell_type": "code",
      "metadata": {
        "id": "UMWpWS-sWt4d"
      },
      "source": [
        "df.head()"
      ],
      "execution_count": null,
      "outputs": []
    },
    {
      "cell_type": "markdown",
      "metadata": {
        "id": "BZq8JlHoof8B"
      },
      "source": [
        "**Creating embedding for each premise**"
      ]
    },
    {
      "cell_type": "code",
      "metadata": {
        "colab": {
          "base_uri": "https://localhost:8080/",
          "height": 164,
          "referenced_widgets": [
            "a9bf77134acc4543b718cb89379f4966",
            "3183b88462444fdd9491138411669b6e",
            "5da64a8adba84ac3ae9e866f104c94ac",
            "341740bc7e8c47f1bb3d65fabfa3618c",
            "0e95bcc2e21d421ca999b3ac6f91a69c",
            "852d59705af243f1832c2d248124b6f9",
            "1dd4171db3c7472da8a3f0fd7efbed1f",
            "c551e9f0546a4836a99eeca6003d18e8",
            "0989879e4be240a98a71b15b52f18066",
            "e932827aa6b841de942fa372a008b435",
            "1facbe82c7a14bb5a3120b2920157f27",
            "d06cb7b8e7ab4dd9aa409408ce486ca5",
            "3de64efeba3f4c8d9d846bc2ed1e7d27",
            "6f0e2656a20a4d26bbb7219c15ebca07",
            "40c0855f83c3426b9173de6b0c9a8ee9",
            "812dbd592cd94c3db20683a0b1538f69",
            "6760b943137145b692cdf19cd3efe30c",
            "f418f0e60b9c492daee367b53f6b8c7f",
            "24ef57d8ba454387b2c67cab340caa98",
            "59734e5701234b42948df33e6b7a5581",
            "18dbd38df2d341bbb1c8844be7d45152",
            "21184f5b5bda4d3f954de186d2ca1849",
            "0f5e016f1cb1448da9376ab09127a3dc",
            "e64bff630b7340589c2fa3035409088e"
          ]
        },
        "id": "Gnur3lCv9Ufw",
        "outputId": "4d8fe47f-0d76-4705-dc54-2cdf7d2cb6ea"
      },
      "source": [
        "from transformers import BertTokenizer, BertModel\n",
        "\n",
        "tokenizer = BertTokenizer.from_pretrained('bert-base-uncased')\n",
        "model = BertModel.from_pretrained('bert-base-uncased')\n",
        "\n",
        "embeddings = []\n",
        "\n",
        "for premise in df['Premise'].to_list():\n",
        "  inputs = tokenizer(premise, padding=True, truncation=True, return_tensors=\"pt\", max_length=128)\n",
        "  result = model(**inputs)\n",
        "  embeddings.append(result.last_hidden_state[:, 0, :].detach().numpy())"
      ],
      "execution_count": null,
      "outputs": [
        {
          "output_type": "display_data",
          "data": {
            "application/vnd.jupyter.widget-view+json": {
              "model_id": "a9bf77134acc4543b718cb89379f4966",
              "version_minor": 0,
              "version_major": 2
            },
            "text/plain": [
              "HBox(children=(FloatProgress(value=0.0, description='Downloading', max=231508.0, style=ProgressStyle(descripti…"
            ]
          },
          "metadata": {
            "tags": []
          }
        },
        {
          "output_type": "stream",
          "text": [
            "\n"
          ],
          "name": "stdout"
        },
        {
          "output_type": "display_data",
          "data": {
            "application/vnd.jupyter.widget-view+json": {
              "model_id": "0989879e4be240a98a71b15b52f18066",
              "version_minor": 0,
              "version_major": 2
            },
            "text/plain": [
              "HBox(children=(FloatProgress(value=0.0, description='Downloading', max=433.0, style=ProgressStyle(description_…"
            ]
          },
          "metadata": {
            "tags": []
          }
        },
        {
          "output_type": "stream",
          "text": [
            "\n"
          ],
          "name": "stdout"
        },
        {
          "output_type": "display_data",
          "data": {
            "application/vnd.jupyter.widget-view+json": {
              "model_id": "6760b943137145b692cdf19cd3efe30c",
              "version_minor": 0,
              "version_major": 2
            },
            "text/plain": [
              "HBox(children=(FloatProgress(value=0.0, description='Downloading', max=440473133.0, style=ProgressStyle(descri…"
            ]
          },
          "metadata": {
            "tags": []
          }
        },
        {
          "output_type": "stream",
          "text": [
            "\n"
          ],
          "name": "stdout"
        }
      ]
    },
    {
      "cell_type": "code",
      "metadata": {
        "id": "HxRvUPsjiHf7"
      },
      "source": [
        "len(embeddings)"
      ],
      "execution_count": null,
      "outputs": []
    },
    {
      "cell_type": "code",
      "metadata": {
        "id": "hvEyuXblYM8G"
      },
      "source": [
        "test_embeddings = embeddings.copy()"
      ],
      "execution_count": null,
      "outputs": []
    },
    {
      "cell_type": "markdown",
      "metadata": {
        "id": "7ixaKFZEoqhZ"
      },
      "source": [
        "**Flatten the array**"
      ]
    },
    {
      "cell_type": "code",
      "metadata": {
        "id": "U6va3Yy4hkOZ"
      },
      "source": [
        "import numpy as np\n",
        "test_embeddings = np.concatenate(test_embeddings)"
      ],
      "execution_count": null,
      "outputs": []
    },
    {
      "cell_type": "code",
      "metadata": {
        "id": "DwFAdBmXY8oK"
      },
      "source": [
        "print(test_embeddings)"
      ],
      "execution_count": null,
      "outputs": []
    },
    {
      "cell_type": "code",
      "metadata": {
        "id": "1d5sELgX_lvJ"
      },
      "source": [
        "from sklearn.model_selection import train_test_split\n",
        "X_train, X_test, y_train, y_test = train_test_split(test_embeddings, df['Combined Quality'].to_list(), test_size=0.20, random_state=0)"
      ],
      "execution_count": null,
      "outputs": []
    },
    {
      "cell_type": "markdown",
      "metadata": {
        "id": "sl2hnDk3lVCG"
      },
      "source": [
        "**Best RMSE gotten with xgboost:**"
      ]
    },
    {
      "cell_type": "code",
      "metadata": {
        "colab": {
          "base_uri": "https://localhost:8080/"
        },
        "id": "4N4aTe-QNyQL",
        "outputId": "bd5d3de6-df1b-45f6-ead2-396b464637fa"
      },
      "source": [
        "import xgboost\n",
        "from sklearn.metrics import mean_squared_error\n",
        "xgb = xgboost.XGBRegressor(n_estimators=100, learning_rate=0.08, gamma=0, subsample=0.75, colsample_bytree=1, max_depth=7)\n",
        "xgb.fit(X_train, y_train)\n",
        "y_pred = xgb.predict(X_test)\n",
        "xgb_mse = mean_squared_error(y_pred, y_test)\n",
        "xgb_rmse = np.sqrt(xgb_mse)\n",
        "# print(y_pred)\n",
        "print('Xgboost RMSE: %.4f' % xgb_rmse)"
      ],
      "execution_count": null,
      "outputs": [
        {
          "output_type": "stream",
          "text": [
            "[00:21:19] WARNING: /workspace/src/objective/regression_obj.cu:152: reg:linear is now deprecated in favor of reg:squarederror.\n",
            "Xgboost RMSE: 1.2726\n"
          ],
          "name": "stdout"
        }
      ]
    },
    {
      "cell_type": "code",
      "metadata": {
        "colab": {
          "base_uri": "https://localhost:8080/",
          "height": 315
        },
        "id": "DyyWFieWIpyD",
        "outputId": "abf7022c-7cf8-4ff4-d359-cbfd76919d1f"
      },
      "source": [
        "pd.DataFrame(y_pred).hist()"
      ],
      "execution_count": null,
      "outputs": [
        {
          "output_type": "execute_result",
          "data": {
            "text/plain": [
              "array([[<matplotlib.axes._subplots.AxesSubplot object at 0x7f4a74185588>]],\n",
              "      dtype=object)"
            ]
          },
          "metadata": {
            "tags": []
          },
          "execution_count": 12
        },
        {
          "output_type": "display_data",
          "data": {
            "image/png": "[encoded data removed]",
            "text/plain": [
              "<Figure size 432x288 with 1 Axes>"
            ]
          },
          "metadata": {
            "tags": [],
            "needs_background": "light"
          }
        }
      ]
    },
    {
      "cell_type": "code",
      "metadata": {
        "colab": {
          "base_uri": "https://localhost:8080/",
          "height": 315
        },
        "id": "CZ8k-vvMIr2B",
        "outputId": "4b20b8a6-49ec-4e8e-f943-7e59e8fdb449"
      },
      "source": [
        "pd.DataFrame(y_test).hist()"
      ],
      "execution_count": null,
      "outputs": [
        {
          "output_type": "execute_result",
          "data": {
            "text/plain": [
              "array([[<matplotlib.axes._subplots.AxesSubplot object at 0x7f4a7410a5f8>]],\n",
              "      dtype=object)"
            ]
          },
          "metadata": {
            "tags": []
          },
          "execution_count": 13
        },
        {
          "output_type": "display_data",
          "data": {
            "image/png": "[encoded data removed]",
            "text/plain": [
              "<Figure size 432x288 with 1 Axes>"
            ]
          },
          "metadata": {
            "tags": [],
            "needs_background": "light"
          }
        }
      ]
    },
    {
      "cell_type": "markdown",
      "metadata": {
        "id": "Y8pKztkxnbe3"
      },
      "source": [
        "**Other estimators:**"
      ]
    },
    {
      "cell_type": "code",
      "metadata": {
        "id": "NnTi0OWqjcuF"
      },
      "source": [
        "from sklearn.ensemble import RandomForestRegressor\n",
        "from sklearn.metrics import mean_squared_error\n",
        "\n",
        "rf = RandomForestRegressor(n_estimators=100, max_depth=6, random_state=0)\n",
        "rf.fit(X_train, y_train)\n",
        "y_pred = rf.predict(X_test)\n",
        "rf_mse = mean_squared_error(y_pred, y_test)\n",
        "rf_rmse = np.sqrt(rf_mse)\n",
        "print('RandomForest RMSE: %.4f' % rf_rmse)"
      ],
      "execution_count": null,
      "outputs": []
    },
    {
      "cell_type": "code",
      "metadata": {
        "id": "AVTByG7yjiGC"
      },
      "source": [
        "from sklearn.ensemble import GradientBoostingRegressor\n",
        "\n",
        "est = GradientBoostingRegressor(n_estimators=100, learning_rate=0.1, max_depth=1, random_state=0, loss='ls').fit(X_train, y_train)\n",
        "y_pred = est.predict(X_test)\n",
        "est_mse = mean_squared_error(y_pred, y_test)\n",
        "est_rmse = np.sqrt(est_mse)\n",
        "print('Gradient boosting RMSE: %.4f' % est_rmse)"
      ],
      "execution_count": null,
      "outputs": []
    },
    {
      "cell_type": "code",
      "metadata": {
        "id": "Duz7BHEejf8l"
      },
      "source": [
        "from sklearn.linear_model import Ridge\n",
        "\n",
        "rg= Ridge(alpha=.1)\n",
        "rg.fit(X_train, y_train)\n",
        "y_pred = rg.predict(X_test)\n",
        "rg_mse = mean_squared_error(y_pred, y_test)\n",
        "rg_rmse = np.sqrt(rg_mse)\n",
        "print('Ridge RMSE: %.4f' % rg_rmse)"
      ],
      "execution_count": null,
      "outputs": []
    },
    {
      "cell_type": "code",
      "metadata": {
        "id": "ns9FpAf7BbJP"
      },
      "source": [
        "from sklearn.metrics import mean_squared_error\n",
        "from sklearn.svm import SVR\n",
        "from sklearn.pipeline import make_pipeline\n",
        "from sklearn.preprocessing import StandardScaler\n",
        "from sklearn.metrics import accuracy_score\n",
        "import numpy as np\n",
        "svr = make_pipeline(StandardScaler(), SVR(C=12.0, epsilon=0.001,gamma = 1e-8))\n",
        "# embeddings = embeddings.detach().numpy()\n",
        "# embeddings_test = embeddings_test.detach().numpy()\n",
        "svr.fit(X_train, y_train)\n",
        "y_pred = svr.predict(X_test)\n",
        "mse = mean_squared_error(y_test,y_pred)\n",
        "rmse = np.sqrt(mse)\n",
        "print(svr.score(X_test,y_test))\n",
        "print(rmse)"
      ],
      "execution_count": null,
      "outputs": []
    },
    {
      "cell_type": "code",
      "metadata": {
        "id": "pSTjvJuUkCO6"
      },
      "source": [
        " xgb.save_model(\"xbg-model\")"
      ],
      "execution_count": null,
      "outputs": []
    }
  ]
}