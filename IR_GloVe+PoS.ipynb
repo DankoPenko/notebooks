{
  "nbformat": 4,
  "nbformat_minor": 0,
  "metadata": {
    "colab": {
      "name": "websuche_glove+pos.ipynb",
      "provenance": [],
      "collapsed_sections": []
    },
    "kernelspec": {
      "display_name": "Python 3",
      "name": "python3"
    },
    "accelerator": "GPU"
  },
  "cells": [
    {
      "cell_type": "markdown",
      "metadata": {
        "id": "Cng3PSRrmZYe"
      },
      "source": [
        "**Load the data and create GloVe**"
      ]
    },
    {
      "cell_type": "code",
      "metadata": {
        "colab": {
          "base_uri": "https://localhost:8080/"
        },
        "id": "vV1gq5Aq5If6",
        "outputId": "1bdb7f2a-2832-491f-e83d-9376bb0f441e"
      },
      "source": [
        "import numpy as np\n",
        "import pandas as pd\n",
        "from tqdm import tqdm\n",
        "\n",
        "from sklearn.feature_extraction.text import TfidfVectorizer\n",
        "from sklearn.linear_model import LogisticRegression\n",
        "from sklearn.model_selection import cross_val_score\n",
        "from scipy.sparse import hstack\n",
        "from nltk import word_tokenize\n",
        "from nltk.corpus import stopwords\n",
        "from nltk import punkt\n",
        "import nltk as nltk\n",
        "from sklearn.metrics import mean_squared_error\n",
        "from sklearn.svm import SVR\n",
        "from sklearn.pipeline import make_pipeline\n",
        "from sklearn.preprocessing import StandardScaler\n",
        "from sklearn.metrics import accuracy_score\n",
        "\n",
        "nltk.download('stopwords')\n",
        "nltk.download('punkt')\n",
        "stop_words = stopwords.words('english')\n",
        "\n",
        "df = pd.read_csv('/content/drive/MyDrive/webis.csv')\n",
        "df['Stance'] = df['Stance'].astype('int')\n",
        "df['Is Argument?'] = df['Is Argument?'].astype('int')\n",
        "topics = pd.read_csv('/content/drive/MyDrive/webis_topics.csv')\n",
        "df_all = pd.merge(df, topics, how='left', on='Topic ID')\n",
        "\n",
        "target = df_all['Rhetorical Quality'].copy().to_list()\n",
        "features = df_all['Premise'].copy().to_list()\n",
        "\n",
        "########################## create vectors using glove ##############################################\n",
        "from sklearn.model_selection import train_test_split\n",
        "X_train, X_test, y_train, y_test = train_test_split(features, target, test_size=0.2, random_state=0)\n",
        "\n",
        "asdf = 0\n",
        "\n",
        "embeddings_index = {}\n",
        "f = open('/content/drive/MyDrive/glove.6B.50d.txt', encoding=\"utf8\")\n",
        "for line in tqdm(f):\n",
        "    values = line.split()\n",
        "    word = values[0]\n",
        "    try:\n",
        "       coefs = np.asarray(values[1:], dtype='float32')\n",
        "       embeddings_index[word] = coefs\n",
        "       if asdf == 0:\n",
        "         print(values[1:])\n",
        "         print(np.asarray(values[1:]))\n",
        "         print(word)\n",
        "         asdf = 1\n",
        "    except ValueError:\n",
        "       pass\n",
        "f.close()\n",
        "print('Found %s word vectors.' % len(embeddings_index))\n",
        "# this function creates a normalized vector for the whole sentence\n",
        "def sent2vec(s):\n",
        "    words = str(s).lower()\n",
        "    words = word_tokenize(words)\n",
        "    words = [w for w in words if not w in stop_words]\n",
        "    words = [w for w in words if w.isalpha()]\n",
        "    M = []\n",
        "    for w in words:\n",
        "        try:\n",
        "            M.append(embeddings_index[w])\n",
        "        except:\n",
        "            continue\n",
        "    M = np.array(M)\n",
        "    v = M.sum(axis=0)\n",
        "    if type(v) != np.ndarray:\n",
        "        return np.zeros(50)\n",
        "    return v / np.sqrt((v ** 2).sum())\n",
        "\n",
        "# create sentence vectors using the above function for training and validation set\n",
        "xtrain_glove = [sent2vec(x) for x in tqdm(X_train)]\n",
        "xtest_glove = [sent2vec(x) for x in tqdm(X_test)]\n",
        "\n",
        "print('Checkpoint2 -Normalized Vector for Sentences are created')\n",
        "\n",
        "xtrain_glove = np.array(xtrain_glove)\n",
        "xtest_glove = np.array(xtest_glove)\n",
        "\n",
        "#pass glove-data to SVR\n",
        "svr = make_pipeline(StandardScaler(), SVR(C=1.0, epsilon=0.2))\n",
        "# print(xtrain_glove.shape)\n",
        "svr.fit(xtrain_glove, y_train)\n",
        "y_pred = svr.predict(xtest_glove)\n",
        "mse = mean_squared_error(y_pred, y_test)\n",
        "rmse = np.sqrt(mse)"
      ],
      "execution_count": null,
      "outputs": [
        {
          "output_type": "stream",
          "text": [
            "\n",
            "0it [00:00, ?it/s]\u001b[A"
          ],
          "name": "stderr"
        },
        {
          "output_type": "stream",
          "text": [
            "[nltk_data] Downloading package stopwords to /root/nltk_data...\n",
            "[nltk_data]   Package stopwords is already up-to-date!\n",
            "[nltk_data] Downloading package punkt to /root/nltk_data...\n",
            "[nltk_data]   Package punkt is already up-to-date!\n",
            "['0.418', '0.24968', '-0.41242', '0.1217', '0.34527', '-0.044457', '-0.49688', '-0.17862', '-0.00066023', '-0.6566', '0.27843', '-0.14767', '-0.55677', '0.14658', '-0.0095095', '0.011658', '0.10204', '-0.12792', '-0.8443', '-0.12181', '-0.016801', '-0.33279', '-0.1552', '-0.23131', '-0.19181', '-1.8823', '-0.76746', '0.099051', '-0.42125', '-0.19526', '4.0071', '-0.18594', '-0.52287', '-0.31681', '0.00059213', '0.0074449', '0.17778', '-0.15897', '0.012041', '-0.054223', '-0.29871', '-0.15749', '-0.34758', '-0.045637', '-0.44251', '0.18785', '0.0027849', '-0.18411', '-0.11514', '-0.78581']\n",
            "['0.418' '0.24968' '-0.41242' '0.1217' '0.34527' '-0.044457' '-0.49688'\n",
            " '-0.17862' '-0.00066023' '-0.6566' '0.27843' '-0.14767' '-0.55677'\n",
            " '0.14658' '-0.0095095' '0.011658' '0.10204' '-0.12792' '-0.8443'\n",
            " '-0.12181' '-0.016801' '-0.33279' '-0.1552' '-0.23131' '-0.19181'\n",
            " '-1.8823' '-0.76746' '0.099051' '-0.42125' '-0.19526' '4.0071' '-0.18594'\n",
            " '-0.52287' '-0.31681' '0.00059213' '0.0074449' '0.17778' '-0.15897'\n",
            " '0.012041' '-0.054223' '-0.29871' '-0.15749' '-0.34758' '-0.045637'\n",
            " '-0.44251' '0.18785' '0.0027849' '-0.18411' '-0.11514' '-0.78581']\n",
            "the\n"
          ],
          "name": "stdout"
        },
        {
          "output_type": "stream",
          "text": [
            "\n",
            "7216it [00:00, 72157.66it/s]\u001b[A\n",
            "14399it [00:00, 72054.52it/s]\u001b[A\n",
            "20740it [00:00, 69220.45it/s]\u001b[A\n",
            "27967it [00:00, 70075.63it/s]\u001b[A\n",
            "35027it [00:00, 70232.04it/s]\u001b[A\n",
            "42284it [00:00, 70915.50it/s]\u001b[A\n",
            "49149it [00:00, 70219.91it/s]\u001b[A\n",
            "56361it [00:00, 70777.47it/s]\u001b[A\n",
            "63069it [00:00, 69623.41it/s]\u001b[A\n",
            "69750it [00:01, 68396.38it/s]\u001b[A\n",
            "76495it [00:01, 68108.28it/s]\u001b[A\n",
            "83523it [00:01, 68744.78it/s]\u001b[A\n",
            "90305it [00:01, 66806.73it/s]\u001b[A\n",
            "97160it [00:01, 67318.41it/s]\u001b[A\n",
            "104355it [00:01, 68642.24it/s]\u001b[A\n",
            "111532it [00:01, 69550.81it/s]\u001b[A\n",
            "118770it [00:01, 70375.74it/s]\u001b[A\n",
            "125840it [00:01, 70470.87it/s]\u001b[A\n",
            "133098it [00:01, 71089.85it/s]\u001b[A\n",
            "140206it [00:02, 70645.80it/s]\u001b[A\n",
            "147517it [00:02, 71366.51it/s]\u001b[A\n",
            "154656it [00:02, 70422.11it/s]\u001b[A\n",
            "161703it [00:02, 69873.51it/s]\u001b[A\n",
            "168848it [00:02, 70312.14it/s]\u001b[A\n",
            "175883it [00:02, 69013.39it/s]\u001b[A\n",
            "183215it [00:02, 70250.69it/s]\u001b[A\n",
            "190251it [00:02, 69211.15it/s]\u001b[A\n",
            "197371it [00:02, 69795.47it/s]\u001b[A\n",
            "204392it [00:02, 69916.25it/s]\u001b[A\n",
            "211561it [00:03, 70438.46it/s]\u001b[A\n",
            "218651it [00:03, 70575.36it/s]\u001b[A\n",
            "226131it [00:03, 71790.86it/s]\u001b[A\n",
            "233318it [00:03, 70388.11it/s]\u001b[A\n",
            "240369it [00:03, 68476.51it/s]\u001b[A\n",
            "247399it [00:03, 69012.30it/s]\u001b[A\n",
            "254789it [00:03, 70407.74it/s]\u001b[A\n",
            "261864it [00:03, 70509.64it/s]\u001b[A\n",
            "268927it [00:03, 70104.79it/s]\u001b[A\n",
            "275947it [00:03, 69645.83it/s]\u001b[A\n",
            "283260it [00:04, 70654.76it/s]\u001b[A\n",
            "290525it [00:04, 71240.15it/s]\u001b[A\n",
            "297657it [00:04, 71079.09it/s]\u001b[A\n",
            "304770it [00:04, 70285.10it/s]\u001b[A\n",
            "311853it [00:04, 70447.06it/s]\u001b[A\n",
            "319095it [00:04, 71025.54it/s]\u001b[A\n",
            "326232it [00:04, 71128.45it/s]\u001b[A\n",
            "333553it [00:04, 71736.53it/s]\u001b[A\n",
            "340730it [00:04, 71495.22it/s]\u001b[A\n",
            "347980it [00:04, 71793.69it/s]\u001b[A\n",
            "355162it [00:05, 67688.85it/s]\u001b[A\n",
            "362389it [00:05, 69000.90it/s]\u001b[A\n",
            "369331it [00:05, 68838.91it/s]\u001b[A\n",
            "376504it [00:05, 69681.44it/s]\u001b[A\n",
            "383577it [00:05, 69991.06it/s]\u001b[A\n",
            "390755it [00:05, 70510.45it/s]\u001b[A\n",
            "400000it [00:05, 69985.17it/s]\n",
            "\n",
            "  0%|          | 0/1288 [00:00<?, ?it/s]\u001b[A\n",
            "  7%|▋         | 88/1288 [00:00<00:01, 865.21it/s]\u001b[A"
          ],
          "name": "stderr"
        },
        {
          "output_type": "stream",
          "text": [
            "Found 400000 word vectors.\n"
          ],
          "name": "stdout"
        },
        {
          "output_type": "stream",
          "text": [
            "\n",
            " 14%|█▎        | 175/1288 [00:00<00:01, 864.23it/s]\u001b[A\n",
            " 20%|██        | 258/1288 [00:00<00:01, 850.97it/s]\u001b[A\n",
            " 25%|██▌       | 328/1288 [00:00<00:01, 798.28it/s]\u001b[A\n",
            " 32%|███▏      | 409/1288 [00:00<00:01, 798.46it/s]\u001b[A\n",
            " 38%|███▊      | 490/1288 [00:00<00:00, 801.73it/s]\u001b[A\n",
            " 44%|████▍     | 572/1288 [00:00<00:00, 805.91it/s]\u001b[A\n",
            " 50%|█████     | 650/1288 [00:00<00:00, 797.32it/s]\u001b[A\n",
            " 56%|█████▋    | 725/1288 [00:00<00:00, 773.85it/s]\u001b[A\n",
            " 62%|██████▏   | 800/1288 [00:01<00:00, 759.56it/s]\u001b[A\n",
            " 68%|██████▊   | 874/1288 [00:01<00:00, 748.48it/s]\u001b[A\n",
            " 74%|███████▎  | 949/1288 [00:01<00:00, 746.15it/s]\u001b[A\n",
            " 80%|███████▉  | 1029/1288 [00:01<00:00, 758.62it/s]\u001b[A\n",
            " 86%|████████▌ | 1110/1288 [00:01<00:00, 772.99it/s]\u001b[A\n",
            " 93%|█████████▎| 1192/1288 [00:01<00:00, 785.66it/s]\u001b[A\n",
            "100%|██████████| 1288/1288 [00:01<00:00, 779.08it/s]\n",
            "\n",
            "  0%|          | 0/322 [00:00<?, ?it/s]\u001b[A\n",
            " 25%|██▌       | 82/322 [00:00<00:00, 818.12it/s]\u001b[A\n",
            " 49%|████▉     | 158/322 [00:00<00:00, 798.08it/s]\u001b[A\n",
            "100%|██████████| 322/322 [00:00<00:00, 833.50it/s]\n"
          ],
          "name": "stderr"
        },
        {
          "output_type": "stream",
          "text": [
            "Checkpoint2 -Normalized Vector for Sentences are created\n"
          ],
          "name": "stdout"
        }
      ]
    },
    {
      "cell_type": "markdown",
      "metadata": {
        "id": "7K4p6qW5kLyJ"
      },
      "source": [
        "RMSE of using GloVe and SVR"
      ]
    },
    {
      "cell_type": "code",
      "metadata": {
        "colab": {
          "base_uri": "https://localhost:8080/"
        },
        "id": "xW1wYGz1kmxR",
        "outputId": "0323da33-d27f-4406-d0b5-68be18cc1542"
      },
      "source": [
        "print(rmse)"
      ],
      "execution_count": null,
      "outputs": [
        {
          "output_type": "stream",
          "text": [
            "1.4040997353735423\n"
          ],
          "name": "stdout"
        }
      ]
    },
    {
      "cell_type": "code",
      "metadata": {
        "colab": {
          "base_uri": "https://localhost:8080/"
        },
        "id": "l6q-P0mMGpJ0",
        "outputId": "f50700e5-1c90-4214-b817-c57525a6c0f6"
      },
      "source": [
        "import xgboost\n",
        "from sklearn.metrics import mean_squared_error\n",
        "xgb = xgboost.XGBRegressor(n_estimators=100, learning_rate=0.08, gamma=0, subsample=0.75, colsample_bytree=1, max_depth=7)\n",
        "xgb.fit(xtrain_glove, y_train)\n",
        "y_pred = xgb.predict(xtest_glove)\n",
        "xgb_mse = mean_squared_error(y_pred, y_test)\n",
        "xgb_rmse = np.sqrt(xgb_mse)\n",
        "# print(y_pred)\n",
        "print('Xgboost RMSE: %.4f' % xgb_rmse)"
      ],
      "execution_count": null,
      "outputs": [
        {
          "output_type": "stream",
          "text": [
            "[00:05:04] WARNING: /workspace/src/objective/regression_obj.cu:152: reg:linear is now deprecated in favor of reg:squarederror.\n",
            "Xgboost RMSE: 1.4838\n"
          ],
          "name": "stdout"
        }
      ]
    },
    {
      "cell_type": "markdown",
      "metadata": {
        "id": "PYQiolXbkUi8"
      },
      "source": [
        "**Creating POS 2n-grams**"
      ]
    },
    {
      "cell_type": "markdown",
      "metadata": {
        "id": "QGky8r66ka3i"
      },
      "source": [
        "Step 1: find all pairs of POS'es and set their occurencies to 0."
      ]
    },
    {
      "cell_type": "code",
      "metadata": {
        "colab": {
          "base_uri": "https://localhost:8080/"
        },
        "id": "f7yWmOW86n5u",
        "outputId": "f302c767-7547-4a0a-d4c6-ed5beabd76b1"
      },
      "source": [
        "import pandas as pd\n",
        "import numpy as np\n",
        "from nltk import word_tokenize\n",
        "from nltk import pos_tag\n",
        "import nltk as nltk\n",
        "nltk.download('punkt')\n",
        "nltk.download('averaged_perceptron_tagger')\n",
        "\n",
        "n=2\n",
        "taglist = set()\n",
        "output = {}\n",
        "for premise in df_all['Premise'].to_list():\n",
        "  taglist = set()\n",
        "  premise_tags = nltk.pos_tag(premise)\n",
        "  for item in premise_tags: \n",
        "      taglist.add(item[1])\n",
        "  taglist = list(taglist)      \n",
        "  for i in range(len(taglist)-n+1):\n",
        "      g = ' '.join(taglist[i:i+n])\n",
        "      output.setdefault(g,0)"
      ],
      "execution_count": null,
      "outputs": [
        {
          "output_type": "stream",
          "text": [
            "[nltk_data] Downloading package punkt to /root/nltk_data...\n",
            "[nltk_data]   Package punkt is already up-to-date!\n",
            "[nltk_data] Downloading package averaged_perceptron_tagger to\n",
            "[nltk_data]     /root/nltk_data...\n",
            "[nltk_data]   Unzipping taggers/averaged_perceptron_tagger.zip.\n"
          ],
          "name": "stdout"
        }
      ]
    },
    {
      "cell_type": "code",
      "metadata": {
        "colab": {
          "base_uri": "https://localhost:8080/"
        },
        "id": "KcRzaQ8fqeJT",
        "outputId": "0cdd533b-0fa3-49dd-f649-074ca7da148c"
      },
      "source": [
        "output"
      ],
      "execution_count": null,
      "outputs": [
        {
          "output_type": "error",
          "ename": "NameError",
          "evalue": "ignored",
          "traceback": [
            "\u001b[0;31m---------------------------------------------------------------------------\u001b[0m",
            "\u001b[0;31mNameError\u001b[0m                                 Traceback (most recent call last)",
            "\u001b[0;32m<ipython-input-1-61353e8b2d5a>\u001b[0m in \u001b[0;36m<module>\u001b[0;34m()\u001b[0m\n\u001b[0;32m----> 1\u001b[0;31m \u001b[0moutput\u001b[0m\u001b[0;34m\u001b[0m\u001b[0;34m\u001b[0m\u001b[0m\n\u001b[0m",
            "\u001b[0;31mNameError\u001b[0m: name 'output' is not defined"
          ]
        }
      ]
    },
    {
      "cell_type": "markdown",
      "metadata": {
        "id": "Yy5isYcQkiCa"
      },
      "source": [
        "Step 2: for each premise fill the dictionary of POS'es pairs with occurencies."
      ]
    },
    {
      "cell_type": "code",
      "metadata": {
        "id": "4y_zog_96yAb"
      },
      "source": [
        "outputs = []\n",
        "output1 = output.copy()\n",
        "taglist1 = set()\n",
        "for premise in df_all['Premise'].to_list():\n",
        "  output1 = output.copy()\n",
        "  taglist1 = set()\n",
        "  premise_tags = nltk.pos_tag(premise)\n",
        "  for item in premise_tags: \n",
        "      taglist1.add(item[1])\n",
        "  taglist1 = list(taglist1)      \n",
        "  for i in range(len(taglist1)-n+1):\n",
        "      g = ' '.join(taglist1[i:i+n])\n",
        "      # output.setdefault(g,0)\n",
        "      output1[g] += 1\n",
        "  outputs.append(output1)"
      ],
      "execution_count": null,
      "outputs": []
    },
    {
      "cell_type": "markdown",
      "metadata": {
        "id": "DJLt3eBKlHow"
      },
      "source": [
        "Step 3: get values of dictionaries to represent vector-data and then pass to SVR"
      ]
    },
    {
      "cell_type": "code",
      "metadata": {
        "id": "8VCUCdnl7JeX"
      },
      "source": [
        "data = []\n",
        "for map in outputs:\n",
        "  data.append(list(map.values()))"
      ],
      "execution_count": null,
      "outputs": []
    },
    {
      "cell_type": "code",
      "metadata": {
        "id": "Oh9o6PsX7Z0N"
      },
      "source": [
        "from sklearn.model_selection import train_test_split\n",
        "X_train1, X_test1, _, _ = train_test_split(data, df_all['Rhetorical Quality'].to_list(), test_size=0.2, random_state=0)"
      ],
      "execution_count": null,
      "outputs": []
    },
    {
      "cell_type": "code",
      "metadata": {
        "colab": {
          "base_uri": "https://localhost:8080/"
        },
        "id": "nAeZX4eQ64NY",
        "outputId": "9c19032f-2595-4fdf-c3db-574ed2a715ff"
      },
      "source": [
        "from sklearn.metrics import mean_squared_error\n",
        "from sklearn.svm import SVR\n",
        "from sklearn.pipeline import make_pipeline\n",
        "from sklearn.preprocessing import StandardScaler\n",
        "from sklearn.metrics import accuracy_score\n",
        "svr_nltk = make_pipeline(StandardScaler(), SVR(C=1.0, epsilon=0.001,gamma = 1e-8))\n",
        "svr_nltk.fit(X_train1, y_train)\n",
        "predictions = svr_nltk.predict(X_test1)\n",
        "mse = mean_squared_error(y_test,predictions)\n",
        "rmse = np.sqrt(mse)\n",
        "print(svr_nltk.score(X_test1,y_test))\n",
        "print(rmse)"
      ],
      "execution_count": null,
      "outputs": [
        {
          "output_type": "stream",
          "text": [
            "-0.18533463529026517\n",
            "2.0829596650681643\n"
          ],
          "name": "stdout"
        }
      ]
    },
    {
      "cell_type": "markdown",
      "metadata": {
        "id": "8dlkkbTZlUyC"
      },
      "source": [
        "Now lets take combine both GloVe and POS vectors into one vector and pass it to SVR"
      ]
    },
    {
      "cell_type": "code",
      "metadata": {
        "id": "McNEtOPCFuce"
      },
      "source": [
        "X_train2 = []\n",
        "for i, arr in enumerate(xtrain_glove):\n",
        "  X_train2.append(np.concatenate((xtrain_glove[i], X_train1[i]),axis=None))\n",
        "X_test2 = []\n",
        "for i, arr in enumerate(xtest_glove):\n",
        "  X_test2.append(np.concatenate((xtest_glove[i], X_test1[i]),axis=None))"
      ],
      "execution_count": null,
      "outputs": []
    },
    {
      "cell_type": "code",
      "metadata": {
        "colab": {
          "base_uri": "https://localhost:8080/"
        },
        "id": "4oR-d-YN9WAA",
        "outputId": "7913ed25-4c8e-4514-fe44-8b12d7ce8eff"
      },
      "source": [
        "svr_all = make_pipeline(StandardScaler(), SVR(C=1.0, epsilon=0.001,gamma = 1e-8))\n",
        "svr_all.fit(X_train2, y_train)\n",
        "y_pred_all = svr_all.predict(X_test2)\n",
        "mse = mean_squared_error(y_test,y_pred_all)\n",
        "rmse = np.sqrt(mse)\n",
        "print(svr_all.score(X_test2,y_test))\n",
        "print(rmse)"
      ],
      "execution_count": null,
      "outputs": [
        {
          "output_type": "stream",
          "text": [
            "-0.18532105736580862\n",
            "2.08294773495614\n"
          ],
          "name": "stdout"
        }
      ]
    },
    {
      "cell_type": "markdown",
      "metadata": {
        "id": "yjiYMpbolphG"
      },
      "source": [
        "Didnt work that well, improvement 0.00001 😅"
      ]
    },
    {
      "cell_type": "markdown",
      "metadata": {
        "id": "EX1mVFjSmGvs"
      },
      "source": [
        "With XGboost we get much better result, compared to SVR"
      ]
    },
    {
      "cell_type": "code",
      "metadata": {
        "colab": {
          "base_uri": "https://localhost:8080/"
        },
        "id": "t4U69o0El3ZR",
        "outputId": "53bd95f0-e77d-4ffd-9833-736277059299"
      },
      "source": [
        "import xgboost\n",
        "from sklearn.metrics import mean_squared_error\n",
        "xgb = xgboost.XGBRegressor(n_estimators=100, learning_rate=0.08, gamma=0, subsample=0.75, colsample_bytree=1, max_depth=7)\n",
        "xgb.fit(X_train2, y_train)\n",
        "y_pred = xgb.predict(X_test2)\n",
        "xgb_mse = mean_squared_error(y_pred, y_test)\n",
        "xgb_rmse = np.sqrt(xgb_mse)\n",
        "# print(y_pred)\n",
        "print('Xgboost RMSE: %.4f' % xgb_rmse)"
      ],
      "execution_count": null,
      "outputs": [
        {
          "output_type": "stream",
          "text": [
            "[13:08:55] WARNING: /workspace/src/objective/regression_obj.cu:152: reg:linear is now deprecated in favor of reg:squarederror.\n",
            "Xgboost RMSE: 1.3163\n"
          ],
          "name": "stdout"
        }
      ]
    },
    {
      "cell_type": "markdown",
      "metadata": {
        "id": "8N_bnn99mOWG"
      },
      "source": [
        "Some histogramms"
      ]
    },
    {
      "cell_type": "code",
      "metadata": {
        "colab": {
          "base_uri": "https://localhost:8080/",
          "height": 315
        },
        "id": "lHsZAR1km8LB",
        "outputId": "c9b0cbb6-7f25-45a2-ec7b-9ab41dde36f7"
      },
      "source": [
        "pd.DataFrame(y_pred).hist()"
      ],
      "execution_count": null,
      "outputs": [
        {
          "output_type": "execute_result",
          "data": {
            "text/plain": [
              "array([[<matplotlib.axes._subplots.AxesSubplot object at 0x7ff6b0ea1b38>]],\n",
              "      dtype=object)"
            ]
          },
          "metadata": {
            "tags": []
          },
          "execution_count": 11
        },
        {
          "output_type": "display_data",
          "data": {
            "image/png": "[encoded data removed]",
            "text/plain": [
              "<Figure size 432x288 with 1 Axes>"
            ]
          },
          "metadata": {
            "tags": []
          }
        }
      ]
    },
    {
      "cell_type": "code",
      "metadata": {
        "colab": {
          "base_uri": "https://localhost:8080/",
          "height": 315
        },
        "id": "MFCNniFNnEyZ",
        "outputId": "3e1aff81-4742-4cfe-bc98-f70fd9db8626"
      },
      "source": [
        "pd.DataFrame(y_test).hist()"
      ],
      "execution_count": null,
      "outputs": [
        {
          "output_type": "execute_result",
          "data": {
            "text/plain": [
              "array([[<matplotlib.axes._subplots.AxesSubplot object at 0x7ff6b0d90ef0>]],\n",
              "      dtype=object)"
            ]
          },
          "metadata": {
            "tags": []
          },
          "execution_count": 12
        },
        {
          "output_type": "display_data",
          "data": {
            "image/png": "[encoded data removed]",
            "text/plain": [
              "<Figure size 432x288 with 1 Axes>"
            ]
          },
          "metadata": {
            "tags": []
          }
        }
      ]
    }
  ]
}