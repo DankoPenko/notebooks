{
  "nbformat": 4,
  "nbformat_minor": 0,
  "metadata": {
    "colab": {
      "name": "cft_strassen.ipynb",
      "provenance": [],
      "collapsed_sections": []
    },
    "kernelspec": {
      "name": "python3",
      "display_name": "Python 3"
    }
  },
  "cells": [
    {
      "cell_type": "code",
      "metadata": {
        "colab": {
          "base_uri": "https://localhost:8080/"
        },
        "id": "rjxfXOSWv0xf",
        "outputId": "08f06a3e-0d0d-4245-8ee0-5d618d5ddd33"
      },
      "source": [
        " from __future__ import print_function\n",
        "from keras.models import Sequential\n",
        "from keras import layers\n",
        "from keras.layers import *\n",
        "import numpy as np\n",
        "import csv\n",
        "from keras.utils import plot_model\n",
        "class CharacterTable(object):\n",
        "    def __init__(self, chars):\n",
        "        self.chars = sorted(set(chars))\n",
        "        self.char_indices = dict((c, i) for i, c in enumerate(self.chars))\n",
        "        self.indices_char = dict((i, c) for i, c in enumerate(self.chars))\n",
        "    def encode(self, C, num_rows):\n",
        "        x = np.zeros((num_rows, len(self.chars)))\n",
        "        for i, c in enumerate(C):\n",
        "            x[i, self.char_indices[c]] = 1\n",
        "        return x\n",
        "    def decode(self, x, calc_argmax=True):\n",
        "        if calc_argmax:\n",
        "            x = x.argmax(axis=-1)\n",
        "        return ''.join(self.indices_char[x] for x in x)\n",
        "\n",
        "MAXLEN = 47\n",
        "\n",
        "with open('/content/drive/My Drive/Datensatz/out_strassen2.csv', newline='') as f:\n",
        "    reader = csv.reader(f)\n",
        "    # zip(*) transpose rows to columns\n",
        "    data = list(zip(*list(reader)))\n",
        "train = list(data[0])\n",
        "test = list(data[1])\n",
        "for i in range(len(train)):\n",
        "    train[i] = \"{:<47}\".format(train[i])\n",
        "    test[i] = \"{:<47}\".format(test[i])\n",
        "\n",
        "chars = {'Ü', 'C', 'l', 'g', 'ö', '3', 'W', 'A', 'm', 'N', 'P', 'e', 'k', 'B', 'y', 'Ä', '4', 'z', '2', '1', 'x', 'ß', 'L', 'i', \"'\", '-', 'E', 'c', '_', 'J', 'h', 'X', 't', '6', 'r', 'I', 'O', 'ü', 'H', '8', 's', 'D', 'v', 'Z', 'Ö', 'F', 'U', 'b', '.', 'f', 'w', 'o', '/', 'T', 'n', 'R', 'a', '7', ' ', 'K', 'Q', 'Y', 'u', 'M', 'ä', 'd', 'p', 'V', '9', 'q', '&', '5', ',', 'j', ')', '0', '(', 'S', 'G'}\n",
        "ctable = CharacterTable(chars)\n",
        "\n",
        "print('Vectorization...')\n",
        "x = np.zeros((len(train), MAXLEN, len(chars)), dtype=np.bool)\n",
        "y = np.zeros((len(train), MAXLEN, len(chars)), dtype=np.bool)\n",
        "for i, sentence in enumerate(train):\n",
        "    x[i] = ctable.encode(sentence, MAXLEN)\n",
        "for i, sentence in enumerate(test):\n",
        "    y[i] = ctable.encode(sentence, MAXLEN)\n",
        "\n",
        "indices = np.arange(len(y))\n",
        "np.random.shuffle(indices)\n",
        "x = x[indices]\n",
        "y = y[indices]\n",
        "\n",
        "split_at = len(x) - len(x) // 20\n",
        "(x_train, x_val) = x[:split_at], x[split_at:]\n",
        "(y_train, y_val) = y[:split_at], y[split_at:]\n",
        "\n",
        "class colors:\n",
        "    ok = '\\033[92m'\n",
        "    fail = '\\033[91m'\n",
        "    close = '\\033[0m'\n",
        "\n",
        "# Try replacing GRU, or SimpleRNN.\n",
        "RNN = layers.LSTM\n",
        "HIDDEN_SIZE = 128\n",
        "BATCH_SIZE = 128\n",
        "LAYERS = 1\n",
        "\n",
        "FILTERS = 250\n",
        "KERNEL_SIZE = 3\n",
        "HIDDEN_DIMS = 250\n",
        "\n",
        "\n",
        "# plot_model(model, show_shapes=True)\n",
        "\n"
      ],
      "execution_count": null,
      "outputs": [
        {
          "output_type": "stream",
          "text": [
            "Vectorization...\n"
          ],
          "name": "stdout"
        }
      ]
    },
    {
      "cell_type": "code",
      "metadata": {
        "colab": {
          "base_uri": "https://localhost:8080/"
        },
        "id": "LiWhZxqEv5aE",
        "outputId": "80ab46c4-315e-4cbb-b91a-7b1cbebeeddb"
      },
      "source": [
        "# import tensorflow.compat.v1.keras.layers.CuDNNLSTM\n",
        "print('Build model...')\n",
        "model = Sequential()\n",
        "# model.add(layers.Conv1D(256, KERNEL_SIZE, padding='valid', activation='relu', strides=1, input_shape=(MAXLEN, len(chars))))\n",
        "# model.add(layers.MaxPooling1D())\n",
        "# model.add(layers.Bidirectional(RNN(HIDDEN_SIZE)))\n",
        "# model.add(layers.RepeatVector(MAXLEN))\n",
        "# model.add(layers.Bidirectional(RNN(HIDDEN_SIZE,return_sequences=True)))\n",
        "# model.add(layers.TimeDistributed(layers.Dense(len(chars), activation='softmax')))\n",
        "\n",
        "\n",
        "model.add(Bidirectional(LSTM(256, return_sequences=True), name=\"bi_rnn1\", input_shape=(None, len(chars))))\n",
        "model.add(SpatialDropout1D(0.25, name=\"bi_rnn1_spdp\"))\n",
        "model.add(Bidirectional(LSTM(256, return_sequences=True), name=\"bi_rnn2\"))\n",
        "model.add(SpatialDropout1D(0.25, name=\"bi_rnn2_spdp\"))\n",
        "model.add(Bidirectional(LSTM(256, return_sequences=True), name=\"bi_rnn3\"))\n",
        "model.add(SpatialDropout1D(0.25, name=\"bi_rnn3_spdp\"))\n",
        "model.add(Bidirectional(LSTM(256, return_sequences=True), name=\"bi_rnn4\"))\n",
        "model.add(SpatialDropout1D(0.25, name=\"bi_rnn4_spdp\"))\n",
        "model.add(layers.TimeDistributed(layers.Dense(len(chars), activation='softmax')))\n",
        "\n",
        "\n",
        "model.compile(loss='categorical_crossentropy',\n",
        "              optimizer='adam',\n",
        "              metrics=['accuracy'])\n",
        "model.summary()\n"
      ],
      "execution_count": null,
      "outputs": [
        {
          "output_type": "stream",
          "text": [
            "Build model...\n",
            "Model: \"sequential\"\n",
            "_________________________________________________________________\n",
            "Layer (type)                 Output Shape              Param #   \n",
            "=================================================================\n",
            "bi_rnn1 (Bidirectional)      (None, None, 512)         688128    \n",
            "_________________________________________________________________\n",
            "bi_rnn1_spdp (SpatialDropout (None, None, 512)         0         \n",
            "_________________________________________________________________\n",
            "bi_rnn2 (Bidirectional)      (None, None, 512)         1574912   \n",
            "_________________________________________________________________\n",
            "bi_rnn2_spdp (SpatialDropout (None, None, 512)         0         \n",
            "_________________________________________________________________\n",
            "bi_rnn3 (Bidirectional)      (None, None, 512)         1574912   \n",
            "_________________________________________________________________\n",
            "bi_rnn3_spdp (SpatialDropout (None, None, 512)         0         \n",
            "_________________________________________________________________\n",
            "bi_rnn4 (Bidirectional)      (None, None, 512)         1574912   \n",
            "_________________________________________________________________\n",
            "bi_rnn4_spdp (SpatialDropout (None, None, 512)         0         \n",
            "_________________________________________________________________\n",
            "time_distributed (TimeDistri (None, None, 79)          40527     \n",
            "=================================================================\n",
            "Total params: 5,453,391\n",
            "Trainable params: 5,453,391\n",
            "Non-trainable params: 0\n",
            "_________________________________________________________________\n"
          ],
          "name": "stdout"
        }
      ]
    },
    {
      "cell_type": "code",
      "metadata": {
        "colab": {
          "base_uri": "https://localhost:8080/"
        },
        "id": "yJSClPX_wP2O",
        "outputId": "e7307aa7-f057-4f4e-e38d-702a763a16b5"
      },
      "source": [
        "history = []\n",
        "for iteration in range(1, 5):\n",
        "    print()\n",
        "    print('-' * 50)\n",
        "    print('Iteration', iteration)\n",
        "    history.append(model.fit(x_train, y_train,\n",
        "              batch_size=BATCH_SIZE,\n",
        "              epochs=3,\n",
        "              validation_data=(x_val, y_val)))\n",
        "    for i in range(10):\n",
        "        ind = np.random.randint(0, len(x_val))\n",
        "        rowx, rowy = x_val[np.array([ind])], y_val[np.array([ind])]\n",
        "        preds = model.predict_classes(rowx, verbose=0)\n",
        "        q = ctable.decode(rowx[0])\n",
        "        correct = ctable.decode(rowy[0])\n",
        "        guess = ctable.decode(preds[0], calc_argmax=False)\n",
        "        print('Q', q, end=' ')\n",
        "        print('T', correct, end=' ')\n",
        "        if correct == guess:\n",
        "            print(colors.ok + '☑' + colors.close, end=' ')\n",
        "        else:\n",
        "            print(colors.fail + '☒' + colors.close, end=' ')\n",
        "        print(guess)"
      ],
      "execution_count": null,
      "outputs": [
        {
          "output_type": "stream",
          "text": [
            "\n",
            "--------------------------------------------------\n",
            "Iteration 1\n",
            "Epoch 1/3\n",
            "5807/5807 [==============================] - 545s 91ms/step - loss: 0.2134 - accuracy: 0.9470 - val_loss: 0.0282 - val_accuracy: 0.9921\n",
            "Epoch 2/3\n",
            "5807/5807 [==============================] - 529s 91ms/step - loss: 0.0288 - accuracy: 0.9918 - val_loss: 0.0216 - val_accuracy: 0.9936\n",
            "Epoch 3/3\n",
            "5807/5807 [==============================] - 526s 91ms/step - loss: 0.0233 - accuracy: 0.9932 - val_loss: 0.0200 - val_accuracy: 0.9941\n"
          ],
          "name": "stdout"
        },
        {
          "output_type": "stream",
          "text": [
            "/usr/local/lib/python3.6/dist-packages/tensorflow/python/keras/engine/sequential.py:450: UserWarning: `model.predict_classes()` is deprecated and will be removed after 2021-01-01. Please use instead:* `np.argmax(model.predict(x), axis=-1)`,   if your model does multi-class classification   (e.g. if it uses a `softmax` last-layer activation).* `(model.predict(x) > 0.5).astype(\"int32\")`,   if your model does binary classification   (e.g. if it uses a `sigmoid` last-layer activation).\n",
            "  warnings.warn('`model.predict_classes()` is deprecated and '\n"
          ],
          "name": "stderr"
        },
        {
          "output_type": "stream",
          "text": [
            "Q Röhrichatr.                                     T Röhrichstr.                                     \u001b[92m☑\u001b[0m Röhrichstr.                                    \n",
            "Q Exhternweg                                      T Echternweg                                      \u001b[92m☑\u001b[0m Echternweg                                     \n",
            "Q Wickingweg                                      T Wickingweg                                      \u001b[92m☑\u001b[0m Wickingweg                                     \n",
            "Q Zur Jägerkuhle                                  T Zur Jägerkuhle                                  \u001b[92m☑\u001b[0m Zur Jägerkuhle                                 \n",
            "Q Am Leenenhäuschen                               T Am Leinenhäuschen                               \u001b[91m☒\u001b[0m Am Leenenhäuschen                              \n",
            "Q Im Fritxeeck                                    T Im Fritzeeck                                    \u001b[92m☑\u001b[0m Im Fritzeeck                                   \n",
            "Q Ecklingeröder Str.                              T Ecklingeröder Str.                              \u001b[92m☑\u001b[0m Ecklingeröder Str.                             \n",
            "Q Johann-Scjneider-Str.                           T Johann-Schneider-Str.                           \u001b[92m☑\u001b[0m Johann-Schneider-Str.                          \n",
            "Q Akisgrund                                       T Avisgrund                                       \u001b[91m☒\u001b[0m Akisgrund                                      \n",
            "Q Juliusplytz                                     T Juliusplatz                                     \u001b[92m☑\u001b[0m Juliusplatz                                    \n",
            "\n",
            "--------------------------------------------------\n",
            "Iteration 2\n",
            "Epoch 1/3\n",
            "5807/5807 [==============================] - 528s 91ms/step - loss: 0.0206 - accuracy: 0.9939 - val_loss: 0.0187 - val_accuracy: 0.9944\n",
            "Epoch 2/3\n",
            "5807/5807 [==============================] - 527s 91ms/step - loss: 0.0191 - accuracy: 0.9943 - val_loss: 0.0181 - val_accuracy: 0.9947\n",
            "Epoch 3/3\n",
            "5807/5807 [==============================] - 527s 91ms/step - loss: 0.0181 - accuracy: 0.9946 - val_loss: 0.0173 - val_accuracy: 0.9949\n",
            "Q Dietaer Str.                                    T Dieraer Str.                                    \u001b[91m☒\u001b[0m Dietaer Str.                                   \n",
            "Q Maxstr.                                         T Maxstr.                                         \u001b[92m☑\u001b[0m Maxstr.                                        \n",
            "Q Reckenthiner Str.                               T Reckenthiner Str.                               \u001b[92m☑\u001b[0m Reckenthiner Str.                              \n",
            "Q Rauschenbach                                    T Rauschenbach                                    \u001b[92m☑\u001b[0m Rauschenbach                                   \n",
            "Q Homborn                                         T Homborn                                         \u001b[92m☑\u001b[0m Homborn                                        \n",
            "Q Hatbruch                                        T Harbruch                                        \u001b[91m☒\u001b[0m Hatbruch                                       \n",
            "Q Cofdstr.                                        T Cordstr.                                        \u001b[92m☑\u001b[0m Cordstr.                                       \n",
            "Q Dievacher Str.                                  T Diebacher Str.                                  \u001b[92m☑\u001b[0m Diebacher Str.                                 \n",
            "Q Ihlenbek                                        T Ihlenbek                                        \u001b[92m☑\u001b[0m Ihlenbek                                       \n",
            "Q Hafenducht                                      T Hafenducht                                      \u001b[92m☑\u001b[0m Hafenducht                                     \n",
            "\n",
            "--------------------------------------------------\n",
            "Iteration 3\n",
            "Epoch 1/3\n",
            "5807/5807 [==============================] - 528s 91ms/step - loss: 0.0172 - accuracy: 0.9948 - val_loss: 0.0172 - val_accuracy: 0.9950\n",
            "Epoch 2/3\n",
            "5807/5807 [==============================] - 530s 91ms/step - loss: 0.0165 - accuracy: 0.9950 - val_loss: 0.0169 - val_accuracy: 0.9950\n",
            "Epoch 3/3\n",
            "5807/5807 [==============================] - 526s 91ms/step - loss: 0.0160 - accuracy: 0.9951 - val_loss: 0.0169 - val_accuracy: 0.9951\n",
            "Q Bredehbek                                       T Bredenbek                                       \u001b[92m☑\u001b[0m Bredenbek                                      \n",
            "Q Alois-Schraufstrtter-Str.                       T Alois-Schraufstetter-Str.                       \u001b[92m☑\u001b[0m Alois-Schraufstetter-Str.                      \n",
            "Q Rheinblicdhof                                   T Rheinblickhof                                   \u001b[92m☑\u001b[0m Rheinblickhof                                  \n",
            "Q Untsclener Str.                                 T Untschener Str.                                 \u001b[92m☑\u001b[0m Untschener Str.                                \n",
            "Q Godlticht                                       T Godlricht                                       \u001b[92m☑\u001b[0m Godlricht                                      \n",
            "Q Kleine Rutterstr.                               T Kleine Ritterstr.                               \u001b[92m☑\u001b[0m Kleine Ritterstr.                              \n",
            "Q Wehlermüsle                                     T Wehlermühle                                     \u001b[92m☑\u001b[0m Wehlermühle                                    \n",
            "Q Langenbach Weg                                  T Langenbach Weg                                  \u001b[92m☑\u001b[0m Langenbach Weg                                 \n",
            "Q Lindenbruhnerhof                                T Lindenbrunnerhof                                \u001b[92m☑\u001b[0m Lindenbrunnerhof                               \n",
            "Q Auw der Strehl                                  T Auf der Strehl                                  \u001b[92m☑\u001b[0m Auf der Strehl                                 \n",
            "\n",
            "--------------------------------------------------\n",
            "Iteration 4\n",
            "Epoch 1/3\n",
            "5807/5807 [==============================] - 528s 91ms/step - loss: 0.0154 - accuracy: 0.9953 - val_loss: 0.0167 - val_accuracy: 0.9951\n",
            "Epoch 2/3\n",
            "5807/5807 [==============================] - 527s 91ms/step - loss: 0.0151 - accuracy: 0.9954 - val_loss: 0.0166 - val_accuracy: 0.9952\n",
            "Epoch 3/3\n",
            "5807/5807 [==============================] - 530s 91ms/step - loss: 0.0147 - accuracy: 0.9955 - val_loss: 0.0168 - val_accuracy: 0.9952\n",
            "Q Hayderstr.                                      T Hayderstr.                                      \u001b[92m☑\u001b[0m Hayderstr.                                     \n",
            "Q Buchbühk                                        T Buchbühl                                        \u001b[92m☑\u001b[0m Buchbühl                                       \n",
            "Q Heimannsweg                                     T Heumannsweg                                     \u001b[92m☑\u001b[0m Heumannsweg                                    \n",
            "Q Judesstr.                                       T Judenstr.                                       \u001b[91m☒\u001b[0m Judesstr.                                      \n",
            "Q Dammschiftyn                                    T Dammschiften                                    \u001b[92m☑\u001b[0m Dammschiften                                   \n",
            "Q Bourscheider Weg                                T Bourscheider Weg                                \u001b[92m☑\u001b[0m Bourscheider Weg                               \n",
            "Q Galeonenweg                                     T Galeonenweg                                     \u001b[92m☑\u001b[0m Galeonenweg                                    \n",
            "Q Kroienbrand                                     T Kreienbrand                                     \u001b[92m☑\u001b[0m Kreienbrand                                    \n",
            "Q Am Stuyenrand                                   T Am Stutenrand                                   \u001b[92m☑\u001b[0m Am Stutenrand                                  \n",
            "Q Lohbergfasse                                    T Lohberggasse                                    \u001b[92m☑\u001b[0m Lohberggasse                                   \n"
          ],
          "name": "stdout"
        }
      ]
    },
    {
      "cell_type": "code",
      "metadata": {
        "colab": {
          "base_uri": "https://localhost:8080/"
        },
        "id": "FsicY3jwwR70",
        "outputId": "1da98af0-c3de-45dd-d781-05b1e93ac63c"
      },
      "source": [
        "model.save(\"/content/drive/MyDrive/cft_strassen\")"
      ],
      "execution_count": null,
      "outputs": [
        {
          "output_type": "stream",
          "text": [
            "WARNING:absl:Found untraced functions such as lstm_cell_1_layer_call_and_return_conditional_losses, lstm_cell_1_layer_call_fn, lstm_cell_2_layer_call_and_return_conditional_losses, lstm_cell_2_layer_call_fn, lstm_cell_4_layer_call_and_return_conditional_losses while saving (showing 5 of 40). These functions will not be directly callable after loading.\n",
            "WARNING:absl:Found untraced functions such as lstm_cell_1_layer_call_and_return_conditional_losses, lstm_cell_1_layer_call_fn, lstm_cell_2_layer_call_and_return_conditional_losses, lstm_cell_2_layer_call_fn, lstm_cell_4_layer_call_and_return_conditional_losses while saving (showing 5 of 40). These functions will not be directly callable after loading.\n"
          ],
          "name": "stderr"
        },
        {
          "output_type": "stream",
          "text": [
            "INFO:tensorflow:Assets written to: /content/drive/MyDrive/cft_strassen/assets\n"
          ],
          "name": "stdout"
        },
        {
          "output_type": "stream",
          "text": [
            "INFO:tensorflow:Assets written to: /content/drive/MyDrive/cft_strassen/assets\n"
          ],
          "name": "stderr"
        }
      ]
    },
    {
      "cell_type": "code",
      "metadata": {
        "colab": {
          "base_uri": "https://localhost:8080/",
          "height": 458
        },
        "id": "0v-PrpoNwTy-",
        "outputId": "9908960b-372c-48b2-bf55-874094c7e047"
      },
      "source": [
        "accuracies = []\n",
        "val_accuracies = []\n",
        "for hist in history:\n",
        "  accuracies.append(hist.history['accuracy'])\n",
        "  val_accuracies.append(hist.history['val_accuracy'])\n",
        "accuracies = np.array(accuracies).flatten()\n",
        "val_accuracies = np.array(val_accuracies).flatten()\n",
        "\n",
        "from matplotlib import pyplot as plt\n",
        "plt.figure(figsize=(11, 7))\n",
        "plt.plot(accuracies)\n",
        "plt.plot(val_accuracies)\n",
        "plt.title('model accuracy')\n",
        "plt.ylabel('accuracy')\n",
        "plt.xlabel('epoch')\n",
        "plt.legend(['train', 'val'], loc='upper left')\n",
        "plt.show()"
      ],
      "execution_count": null,
      "outputs": [
        {
          "output_type": "display_data",
          "data": {
            "image/png": "[encoded data removed]",
            "text/plain": [
              "<Figure size 792x504 with 1 Axes>"
            ]
          },
          "metadata": {
            "tags": [],
            "needs_background": "light"
          }
        }
      ]
    },
    {
      "cell_type": "code",
      "metadata": {
        "colab": {
          "base_uri": "https://localhost:8080/"
        },
        "id": "oKL7GxuawU8e",
        "outputId": "217d749c-dc16-41d5-c01a-77b3b6026b65"
      },
      "source": [
        "preds = model.predict_classes(x_val, verbose=0)\n",
        "counter = 0\n",
        "for i in range(len(x_val)):\n",
        "  q = ctable.decode(x_val[i])\n",
        "  correct = ctable.decode(y_val[i])\n",
        "  guess = ctable.decode(preds[i], calc_argmax=False)\n",
        "  # print(f'Q {q} T {correct} G {guess}')\n",
        "\n",
        "  if(correct==guess):\n",
        "    counter += 1\n",
        "print(counter/len(x_val))"
      ],
      "execution_count": null,
      "outputs": [
        {
          "output_type": "stream",
          "text": [
            "/usr/local/lib/python3.6/dist-packages/tensorflow/python/keras/engine/sequential.py:450: UserWarning: `model.predict_classes()` is deprecated and will be removed after 2021-01-01. Please use instead:* `np.argmax(model.predict(x), axis=-1)`,   if your model does multi-class classification   (e.g. if it uses a `softmax` last-layer activation).* `(model.predict(x) > 0.5).astype(\"int32\")`,   if your model does binary classification   (e.g. if it uses a `sigmoid` last-layer activation).\n",
            "  warnings.warn('`model.predict_classes()` is deprecated and '\n"
          ],
          "name": "stderr"
        },
        {
          "output_type": "stream",
          "text": [
            "0.8190719672759811\n"
          ],
          "name": "stdout"
        }
      ]
    }
  ]
}